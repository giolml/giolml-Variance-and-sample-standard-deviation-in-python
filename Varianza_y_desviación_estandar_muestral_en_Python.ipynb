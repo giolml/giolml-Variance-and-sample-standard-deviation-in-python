{
  "cells": [
    {
      "cell_type": "markdown",
      "metadata": {
        "id": "view-in-github",
        "colab_type": "text"
      },
      "source": [
        "<a href=\"https://colab.research.google.com/github/giolml/giolml-Variance-and-sample-standard-deviation-in-python/blob/main/Varianza_y_desviaci%C3%B3n_estandar_muestral_en_Python.ipynb\" target=\"_parent\"><img src=\"https://colab.research.google.com/assets/colab-badge.svg\" alt=\"Open In Colab\"/></a>"
      ]
    },
    {
      "cell_type": "markdown",
      "metadata": {
        "id": "od1rFc7QDjSO"
      },
      "source": [
        "### Importamos las librerias necesarias para el análisis\n"
      ]
    },
    {
      "cell_type": "code",
      "execution_count": null,
      "metadata": {
        "id": "ulFlCmngEWKB"
      },
      "outputs": [],
      "source": [
        "import pandas as pd\n",
        "import numpy as np\n",
        "import matplotlib as mpl\n",
        "import matplotlib.pyplot as plt\n",
        "import seaborn as sns"
      ]
    },
    {
      "cell_type": "markdown",
      "metadata": {
        "id": "iseBVAKnHVgR"
      },
      "source": [
        "### Leemos la base de datos a trabajar en nuestra ruta de origen"
      ]
    },
    {
      "cell_type": "code",
      "execution_count": null,
      "metadata": {
        "id": "gnEnCuakHeV3"
      },
      "outputs": [],
      "source": [
        "url = 'https://archive.ics.uci.edu/ml/machine-learning-databases/iris/iris.data'\n",
        "names = ['sepal-length','sepal-width','petal-length','petal-witdth','class']\n",
        "iris = pd.read_csv(url, names = names)"
      ]
    },
    {
      "cell_type": "code",
      "execution_count": null,
      "metadata": {
        "colab": {
          "base_uri": "https://localhost:8080/",
          "height": 206
        },
        "id": "Neoc99YkUCT0",
        "outputId": "d61ca1ee-998b-42d3-d14d-3f8ad7c51df1"
      },
      "outputs": [
        {
          "output_type": "execute_result",
          "data": {
            "text/plain": [
              "   sepal-length  sepal-width  petal-length  petal-witdth        class\n",
              "0           5.1          3.5           1.4           0.2  Iris-setosa\n",
              "1           4.9          3.0           1.4           0.2  Iris-setosa\n",
              "2           4.7          3.2           1.3           0.2  Iris-setosa\n",
              "3           4.6          3.1           1.5           0.2  Iris-setosa\n",
              "4           5.0          3.6           1.4           0.2  Iris-setosa"
            ],
            "text/html": [
              "\n",
              "  <div id=\"df-5e6c1314-e8a9-4270-83ef-112e850e0415\">\n",
              "    <div class=\"colab-df-container\">\n",
              "      <div>\n",
              "<style scoped>\n",
              "    .dataframe tbody tr th:only-of-type {\n",
              "        vertical-align: middle;\n",
              "    }\n",
              "\n",
              "    .dataframe tbody tr th {\n",
              "        vertical-align: top;\n",
              "    }\n",
              "\n",
              "    .dataframe thead th {\n",
              "        text-align: right;\n",
              "    }\n",
              "</style>\n",
              "<table border=\"1\" class=\"dataframe\">\n",
              "  <thead>\n",
              "    <tr style=\"text-align: right;\">\n",
              "      <th></th>\n",
              "      <th>sepal-length</th>\n",
              "      <th>sepal-width</th>\n",
              "      <th>petal-length</th>\n",
              "      <th>petal-witdth</th>\n",
              "      <th>class</th>\n",
              "    </tr>\n",
              "  </thead>\n",
              "  <tbody>\n",
              "    <tr>\n",
              "      <th>0</th>\n",
              "      <td>5.1</td>\n",
              "      <td>3.5</td>\n",
              "      <td>1.4</td>\n",
              "      <td>0.2</td>\n",
              "      <td>Iris-setosa</td>\n",
              "    </tr>\n",
              "    <tr>\n",
              "      <th>1</th>\n",
              "      <td>4.9</td>\n",
              "      <td>3.0</td>\n",
              "      <td>1.4</td>\n",
              "      <td>0.2</td>\n",
              "      <td>Iris-setosa</td>\n",
              "    </tr>\n",
              "    <tr>\n",
              "      <th>2</th>\n",
              "      <td>4.7</td>\n",
              "      <td>3.2</td>\n",
              "      <td>1.3</td>\n",
              "      <td>0.2</td>\n",
              "      <td>Iris-setosa</td>\n",
              "    </tr>\n",
              "    <tr>\n",
              "      <th>3</th>\n",
              "      <td>4.6</td>\n",
              "      <td>3.1</td>\n",
              "      <td>1.5</td>\n",
              "      <td>0.2</td>\n",
              "      <td>Iris-setosa</td>\n",
              "    </tr>\n",
              "    <tr>\n",
              "      <th>4</th>\n",
              "      <td>5.0</td>\n",
              "      <td>3.6</td>\n",
              "      <td>1.4</td>\n",
              "      <td>0.2</td>\n",
              "      <td>Iris-setosa</td>\n",
              "    </tr>\n",
              "  </tbody>\n",
              "</table>\n",
              "</div>\n",
              "      <button class=\"colab-df-convert\" onclick=\"convertToInteractive('df-5e6c1314-e8a9-4270-83ef-112e850e0415')\"\n",
              "              title=\"Convert this dataframe to an interactive table.\"\n",
              "              style=\"display:none;\">\n",
              "        \n",
              "  <svg xmlns=\"http://www.w3.org/2000/svg\" height=\"24px\"viewBox=\"0 0 24 24\"\n",
              "       width=\"24px\">\n",
              "    <path d=\"M0 0h24v24H0V0z\" fill=\"none\"/>\n",
              "    <path d=\"M18.56 5.44l.94 2.06.94-2.06 2.06-.94-2.06-.94-.94-2.06-.94 2.06-2.06.94zm-11 1L8.5 8.5l.94-2.06 2.06-.94-2.06-.94L8.5 2.5l-.94 2.06-2.06.94zm10 10l.94 2.06.94-2.06 2.06-.94-2.06-.94-.94-2.06-.94 2.06-2.06.94z\"/><path d=\"M17.41 7.96l-1.37-1.37c-.4-.4-.92-.59-1.43-.59-.52 0-1.04.2-1.43.59L10.3 9.45l-7.72 7.72c-.78.78-.78 2.05 0 2.83L4 21.41c.39.39.9.59 1.41.59.51 0 1.02-.2 1.41-.59l7.78-7.78 2.81-2.81c.8-.78.8-2.07 0-2.86zM5.41 20L4 18.59l7.72-7.72 1.47 1.35L5.41 20z\"/>\n",
              "  </svg>\n",
              "      </button>\n",
              "      \n",
              "  <style>\n",
              "    .colab-df-container {\n",
              "      display:flex;\n",
              "      flex-wrap:wrap;\n",
              "      gap: 12px;\n",
              "    }\n",
              "\n",
              "    .colab-df-convert {\n",
              "      background-color: #E8F0FE;\n",
              "      border: none;\n",
              "      border-radius: 50%;\n",
              "      cursor: pointer;\n",
              "      display: none;\n",
              "      fill: #1967D2;\n",
              "      height: 32px;\n",
              "      padding: 0 0 0 0;\n",
              "      width: 32px;\n",
              "    }\n",
              "\n",
              "    .colab-df-convert:hover {\n",
              "      background-color: #E2EBFA;\n",
              "      box-shadow: 0px 1px 2px rgba(60, 64, 67, 0.3), 0px 1px 3px 1px rgba(60, 64, 67, 0.15);\n",
              "      fill: #174EA6;\n",
              "    }\n",
              "\n",
              "    [theme=dark] .colab-df-convert {\n",
              "      background-color: #3B4455;\n",
              "      fill: #D2E3FC;\n",
              "    }\n",
              "\n",
              "    [theme=dark] .colab-df-convert:hover {\n",
              "      background-color: #434B5C;\n",
              "      box-shadow: 0px 1px 3px 1px rgba(0, 0, 0, 0.15);\n",
              "      filter: drop-shadow(0px 1px 2px rgba(0, 0, 0, 0.3));\n",
              "      fill: #FFFFFF;\n",
              "    }\n",
              "  </style>\n",
              "\n",
              "      <script>\n",
              "        const buttonEl =\n",
              "          document.querySelector('#df-5e6c1314-e8a9-4270-83ef-112e850e0415 button.colab-df-convert');\n",
              "        buttonEl.style.display =\n",
              "          google.colab.kernel.accessAllowed ? 'block' : 'none';\n",
              "\n",
              "        async function convertToInteractive(key) {\n",
              "          const element = document.querySelector('#df-5e6c1314-e8a9-4270-83ef-112e850e0415');\n",
              "          const dataTable =\n",
              "            await google.colab.kernel.invokeFunction('convertToInteractive',\n",
              "                                                     [key], {});\n",
              "          if (!dataTable) return;\n",
              "\n",
              "          const docLinkHtml = 'Like what you see? Visit the ' +\n",
              "            '<a target=\"_blank\" href=https://colab.research.google.com/notebooks/data_table.ipynb>data table notebook</a>'\n",
              "            + ' to learn more about interactive tables.';\n",
              "          element.innerHTML = '';\n",
              "          dataTable['output_type'] = 'display_data';\n",
              "          await google.colab.output.renderOutput(dataTable, element);\n",
              "          const docLink = document.createElement('div');\n",
              "          docLink.innerHTML = docLinkHtml;\n",
              "          element.appendChild(docLink);\n",
              "        }\n",
              "      </script>\n",
              "    </div>\n",
              "  </div>\n",
              "  "
            ]
          },
          "metadata": {},
          "execution_count": 10
        }
      ],
      "source": [
        "iris.head()"
      ]
    },
    {
      "cell_type": "markdown",
      "metadata": {
        "id": "ddpMIHR9UkWU"
      },
      "source": [
        "![petalo-sepalo.jpeg](data:image/jpeg;base64,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)"
      ]
    },
    {
      "cell_type": "code",
      "execution_count": null,
      "metadata": {
        "colab": {
          "base_uri": "https://localhost:8080/",
          "height": 386
        },
        "id": "D-0ECzhMU53q",
        "outputId": "99dbc25f-99ee-46db-d51f-e645c040e200"
      },
      "outputs": [
        {
          "output_type": "execute_result",
          "data": {
            "text/plain": [
              "(array([ 1.,  3.,  1.,  4.,  2.,  5.,  6., 10.,  9.,  4.,  1.,  6.,  7.,\n",
              "         6.,  8.,  7.,  3.,  6.,  6., 13.,  0.,  7.,  5.,  2., 11.,  0.,\n",
              "         4.,  2.,  0.,  4.,  0.,  1.,  1.,  4.,  0.,  1.]),\n",
              " array([4.3, 4.4, 4.5, 4.6, 4.7, 4.8, 4.9, 5. , 5.1, 5.2, 5.3, 5.4, 5.5,\n",
              "        5.6, 5.7, 5.8, 5.9, 6. , 6.1, 6.2, 6.3, 6.4, 6.5, 6.6, 6.7, 6.8,\n",
              "        6.9, 7. , 7.1, 7.2, 7.3, 7.4, 7.5, 7.6, 7.7, 7.8, 7.9]),\n",
              " <a list of 36 Patch objects>)"
            ]
          },
          "metadata": {},
          "execution_count": 11
        },
        {
          "output_type": "display_data",
          "data": {
            "text/plain": [
              "<Figure size 432x288 with 1 Axes>"
            ],
            "image/png": "[encoded data removed]"
          },
          "metadata": {
            "needs_background": "light"
          }
        }
      ],
      "source": [
        "plt.hist(iris['sepal-length'], color = 'orange', bins = int(180/5))"
      ]
    },
    {
      "cell_type": "code",
      "execution_count": null,
      "metadata": {
        "colab": {
          "base_uri": "https://localhost:8080/",
          "height": 351
        },
        "id": "g_v6IfDdVdzS",
        "outputId": "70892a56-318b-4ea0-dc8b-9d21f4be3228"
      },
      "outputs": [
        {
          "output_type": "stream",
          "name": "stderr",
          "text": [
            "/usr/local/lib/python3.8/dist-packages/seaborn/distributions.py:2619: FutureWarning: `distplot` is a deprecated function and will be removed in a future version. Please adapt your code to use either `displot` (a figure-level function with similar flexibility) or `histplot` (an axes-level function for histograms).\n",
            "  warnings.warn(msg, FutureWarning)\n"
          ]
        },
        {
          "output_type": "execute_result",
          "data": {
            "text/plain": [
              "<matplotlib.axes._subplots.AxesSubplot at 0x7fdbd275bc70>"
            ]
          },
          "metadata": {},
          "execution_count": 12
        },
        {
          "output_type": "display_data",
          "data": {
            "text/plain": [
              "<Figure size 432x288 with 1 Axes>"
            ],
            "image/png": "[encoded data removed]"
          },
          "metadata": {
            "needs_background": "light"
          }
        }
      ],
      "source": [
        "sns.distplot(iris['sepal-length'],hist=True, kde=True, bins=int(180/5), color = 'orange')"
      ]
    },
    {
      "cell_type": "markdown",
      "metadata": {
        "id": "jPvPrdN8ZwRj"
      },
      "source": [
        "### Calculo de la varianza"
      ]
    },
    {
      "cell_type": "markdown",
      "metadata": {
        "id": "NrM4o_rtaXHF"
      },
      "source": [
        "![formula.png](data:image/png;base64,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)"
      ]
    },
    {
      "cell_type": "code",
      "execution_count": null,
      "metadata": {
        "colab": {
          "base_uri": "https://localhost:8080/",
          "height": 501
        },
        "id": "0KQN0DQYadFZ",
        "outputId": "25880c45-a897-422c-ec9b-461882afc077"
      },
      "outputs": [
        {
          "output_type": "error",
          "ename": "KeyError",
          "evalue": "ignored",
          "traceback": [
            "\u001b[0;31m---------------------------------------------------------------------------\u001b[0m",
            "\u001b[0;31mKeyError\u001b[0m                                  Traceback (most recent call last)",
            "\u001b[0;32m/usr/local/lib/python3.8/dist-packages/pandas/core/indexes/base.py\u001b[0m in \u001b[0;36mget_loc\u001b[0;34m(self, key, method, tolerance)\u001b[0m\n\u001b[1;32m   3360\u001b[0m             \u001b[0;32mtry\u001b[0m\u001b[0;34m:\u001b[0m\u001b[0;34m\u001b[0m\u001b[0;34m\u001b[0m\u001b[0m\n\u001b[0;32m-> 3361\u001b[0;31m                 \u001b[0;32mreturn\u001b[0m \u001b[0mself\u001b[0m\u001b[0;34m.\u001b[0m\u001b[0m_engine\u001b[0m\u001b[0;34m.\u001b[0m\u001b[0mget_loc\u001b[0m\u001b[0;34m(\u001b[0m\u001b[0mcasted_key\u001b[0m\u001b[0;34m)\u001b[0m\u001b[0;34m\u001b[0m\u001b[0;34m\u001b[0m\u001b[0m\n\u001b[0m\u001b[1;32m   3362\u001b[0m             \u001b[0;32mexcept\u001b[0m \u001b[0mKeyError\u001b[0m \u001b[0;32mas\u001b[0m \u001b[0merr\u001b[0m\u001b[0;34m:\u001b[0m\u001b[0;34m\u001b[0m\u001b[0;34m\u001b[0m\u001b[0m\n",
            "\u001b[0;32m/usr/local/lib/python3.8/dist-packages/pandas/_libs/index.pyx\u001b[0m in \u001b[0;36mpandas._libs.index.IndexEngine.get_loc\u001b[0;34m()\u001b[0m\n",
            "\u001b[0;32m/usr/local/lib/python3.8/dist-packages/pandas/_libs/index.pyx\u001b[0m in \u001b[0;36mpandas._libs.index.IndexEngine.get_loc\u001b[0;34m()\u001b[0m\n",
            "\u001b[0;32mpandas/_libs/hashtable_class_helper.pxi\u001b[0m in \u001b[0;36mpandas._libs.hashtable.PyObjectHashTable.get_item\u001b[0;34m()\u001b[0m\n",
            "\u001b[0;32mpandas/_libs/hashtable_class_helper.pxi\u001b[0m in \u001b[0;36mpandas._libs.hashtable.PyObjectHashTable.get_item\u001b[0;34m()\u001b[0m\n",
            "\u001b[0;31mKeyError\u001b[0m: 'sepal-lenght'",
            "\nThe above exception was the direct cause of the following exception:\n",
            "\u001b[0;31mKeyError\u001b[0m                                  Traceback (most recent call last)",
            "\u001b[0;32m<ipython-input-13-fe010372c437>\u001b[0m in \u001b[0;36m<module>\u001b[0;34m\u001b[0m\n\u001b[0;32m----> 1\u001b[0;31m \u001b[0miris\u001b[0m\u001b[0;34m[\u001b[0m\u001b[0;34m'sepal-lenght'\u001b[0m\u001b[0;34m]\u001b[0m\u001b[0;34m.\u001b[0m\u001b[0mvar\u001b[0m\u001b[0;34m(\u001b[0m\u001b[0;34m)\u001b[0m\u001b[0;34m\u001b[0m\u001b[0;34m\u001b[0m\u001b[0m\n\u001b[0m",
            "\u001b[0;32m/usr/local/lib/python3.8/dist-packages/pandas/core/frame.py\u001b[0m in \u001b[0;36m__getitem__\u001b[0;34m(self, key)\u001b[0m\n\u001b[1;32m   3456\u001b[0m             \u001b[0;32mif\u001b[0m \u001b[0mself\u001b[0m\u001b[0;34m.\u001b[0m\u001b[0mcolumns\u001b[0m\u001b[0;34m.\u001b[0m\u001b[0mnlevels\u001b[0m \u001b[0;34m>\u001b[0m \u001b[0;36m1\u001b[0m\u001b[0;34m:\u001b[0m\u001b[0;34m\u001b[0m\u001b[0;34m\u001b[0m\u001b[0m\n\u001b[1;32m   3457\u001b[0m                 \u001b[0;32mreturn\u001b[0m \u001b[0mself\u001b[0m\u001b[0;34m.\u001b[0m\u001b[0m_getitem_multilevel\u001b[0m\u001b[0;34m(\u001b[0m\u001b[0mkey\u001b[0m\u001b[0;34m)\u001b[0m\u001b[0;34m\u001b[0m\u001b[0;34m\u001b[0m\u001b[0m\n\u001b[0;32m-> 3458\u001b[0;31m             \u001b[0mindexer\u001b[0m \u001b[0;34m=\u001b[0m \u001b[0mself\u001b[0m\u001b[0;34m.\u001b[0m\u001b[0mcolumns\u001b[0m\u001b[0;34m.\u001b[0m\u001b[0mget_loc\u001b[0m\u001b[0;34m(\u001b[0m\u001b[0mkey\u001b[0m\u001b[0;34m)\u001b[0m\u001b[0;34m\u001b[0m\u001b[0;34m\u001b[0m\u001b[0m\n\u001b[0m\u001b[1;32m   3459\u001b[0m             \u001b[0;32mif\u001b[0m \u001b[0mis_integer\u001b[0m\u001b[0;34m(\u001b[0m\u001b[0mindexer\u001b[0m\u001b[0;34m)\u001b[0m\u001b[0;34m:\u001b[0m\u001b[0;34m\u001b[0m\u001b[0;34m\u001b[0m\u001b[0m\n\u001b[1;32m   3460\u001b[0m                 \u001b[0mindexer\u001b[0m \u001b[0;34m=\u001b[0m \u001b[0;34m[\u001b[0m\u001b[0mindexer\u001b[0m\u001b[0;34m]\u001b[0m\u001b[0;34m\u001b[0m\u001b[0;34m\u001b[0m\u001b[0m\n",
            "\u001b[0;32m/usr/local/lib/python3.8/dist-packages/pandas/core/indexes/base.py\u001b[0m in \u001b[0;36mget_loc\u001b[0;34m(self, key, method, tolerance)\u001b[0m\n\u001b[1;32m   3361\u001b[0m                 \u001b[0;32mreturn\u001b[0m \u001b[0mself\u001b[0m\u001b[0;34m.\u001b[0m\u001b[0m_engine\u001b[0m\u001b[0;34m.\u001b[0m\u001b[0mget_loc\u001b[0m\u001b[0;34m(\u001b[0m\u001b[0mcasted_key\u001b[0m\u001b[0;34m)\u001b[0m\u001b[0;34m\u001b[0m\u001b[0;34m\u001b[0m\u001b[0m\n\u001b[1;32m   3362\u001b[0m             \u001b[0;32mexcept\u001b[0m \u001b[0mKeyError\u001b[0m \u001b[0;32mas\u001b[0m \u001b[0merr\u001b[0m\u001b[0;34m:\u001b[0m\u001b[0;34m\u001b[0m\u001b[0;34m\u001b[0m\u001b[0m\n\u001b[0;32m-> 3363\u001b[0;31m                 \u001b[0;32mraise\u001b[0m \u001b[0mKeyError\u001b[0m\u001b[0;34m(\u001b[0m\u001b[0mkey\u001b[0m\u001b[0;34m)\u001b[0m \u001b[0;32mfrom\u001b[0m \u001b[0merr\u001b[0m\u001b[0;34m\u001b[0m\u001b[0;34m\u001b[0m\u001b[0m\n\u001b[0m\u001b[1;32m   3364\u001b[0m \u001b[0;34m\u001b[0m\u001b[0m\n\u001b[1;32m   3365\u001b[0m         \u001b[0;32mif\u001b[0m \u001b[0mis_scalar\u001b[0m\u001b[0;34m(\u001b[0m\u001b[0mkey\u001b[0m\u001b[0;34m)\u001b[0m \u001b[0;32mand\u001b[0m \u001b[0misna\u001b[0m\u001b[0;34m(\u001b[0m\u001b[0mkey\u001b[0m\u001b[0;34m)\u001b[0m \u001b[0;32mand\u001b[0m \u001b[0;32mnot\u001b[0m \u001b[0mself\u001b[0m\u001b[0;34m.\u001b[0m\u001b[0mhasnans\u001b[0m\u001b[0;34m:\u001b[0m\u001b[0;34m\u001b[0m\u001b[0;34m\u001b[0m\u001b[0m\n",
            "\u001b[0;31mKeyError\u001b[0m: 'sepal-lenght'"
          ]
        }
      ],
      "source": [
        "iris['sepal-lenght'].var()"
      ]
    },
    {
      "cell_type": "markdown",
      "source": [
        "#Tipos de pruebas de hipotesis"
      ],
      "metadata": {
        "id": "Nl6BbIm-H69s"
      }
    },
    {
      "cell_type": "markdown",
      "source": [
        "###Importar las librerias necesarias para el analisis"
      ],
      "metadata": {
        "id": "iDPKJB7kIEJ6"
      }
    },
    {
      "cell_type": "code",
      "source": [
        "import pandas as pd\n",
        "import numpy as np \n",
        "import seaborn as sns\n",
        "import scipy.stats as st\n",
        "from scipy.stats import f_oneway\n",
        "from scipy.stats import ttest_ind"
      ],
      "metadata": {
        "id": "8xdJG-0nIIz9"
      },
      "execution_count": null,
      "outputs": []
    },
    {
      "cell_type": "markdown",
      "source": [
        "### De nuevo usaremos la base de datos iris"
      ],
      "metadata": {
        "id": "l7EPPtpEIurT"
      }
    },
    {
      "cell_type": "code",
      "source": [
        "url = 'https://archive.ics.uci.edu/ml/machine-learning-databases/iris/iris.data'\n",
        "names = ['sepal-length','sepal-width','petal-length','petal-witdth','class']\n",
        "iris = pd.read_csv(url, names = names)\n",
        "iris.head()"
      ],
      "metadata": {
        "colab": {
          "base_uri": "https://localhost:8080/",
          "height": 206
        },
        "id": "_VZ8DhKGIy8h",
        "outputId": "d602d6ec-32fb-4826-a095-79848ba7423e"
      },
      "execution_count": null,
      "outputs": [
        {
          "output_type": "execute_result",
          "data": {
            "text/plain": [
              "   sepal-length  sepal-width  petal-length  petal-witdth        class\n",
              "0           5.1          3.5           1.4           0.2  Iris-setosa\n",
              "1           4.9          3.0           1.4           0.2  Iris-setosa\n",
              "2           4.7          3.2           1.3           0.2  Iris-setosa\n",
              "3           4.6          3.1           1.5           0.2  Iris-setosa\n",
              "4           5.0          3.6           1.4           0.2  Iris-setosa"
            ],
            "text/html": [
              "\n",
              "  <div id=\"df-f00fde63-df9c-4208-b9a7-e7b8eaa7251d\">\n",
              "    <div class=\"colab-df-container\">\n",
              "      <div>\n",
              "<style scoped>\n",
              "    .dataframe tbody tr th:only-of-type {\n",
              "        vertical-align: middle;\n",
              "    }\n",
              "\n",
              "    .dataframe tbody tr th {\n",
              "        vertical-align: top;\n",
              "    }\n",
              "\n",
              "    .dataframe thead th {\n",
              "        text-align: right;\n",
              "    }\n",
              "</style>\n",
              "<table border=\"1\" class=\"dataframe\">\n",
              "  <thead>\n",
              "    <tr style=\"text-align: right;\">\n",
              "      <th></th>\n",
              "      <th>sepal-length</th>\n",
              "      <th>sepal-width</th>\n",
              "      <th>petal-length</th>\n",
              "      <th>petal-witdth</th>\n",
              "      <th>class</th>\n",
              "    </tr>\n",
              "  </thead>\n",
              "  <tbody>\n",
              "    <tr>\n",
              "      <th>0</th>\n",
              "      <td>5.1</td>\n",
              "      <td>3.5</td>\n",
              "      <td>1.4</td>\n",
              "      <td>0.2</td>\n",
              "      <td>Iris-setosa</td>\n",
              "    </tr>\n",
              "    <tr>\n",
              "      <th>1</th>\n",
              "      <td>4.9</td>\n",
              "      <td>3.0</td>\n",
              "      <td>1.4</td>\n",
              "      <td>0.2</td>\n",
              "      <td>Iris-setosa</td>\n",
              "    </tr>\n",
              "    <tr>\n",
              "      <th>2</th>\n",
              "      <td>4.7</td>\n",
              "      <td>3.2</td>\n",
              "      <td>1.3</td>\n",
              "      <td>0.2</td>\n",
              "      <td>Iris-setosa</td>\n",
              "    </tr>\n",
              "    <tr>\n",
              "      <th>3</th>\n",
              "      <td>4.6</td>\n",
              "      <td>3.1</td>\n",
              "      <td>1.5</td>\n",
              "      <td>0.2</td>\n",
              "      <td>Iris-setosa</td>\n",
              "    </tr>\n",
              "    <tr>\n",
              "      <th>4</th>\n",
              "      <td>5.0</td>\n",
              "      <td>3.6</td>\n",
              "      <td>1.4</td>\n",
              "      <td>0.2</td>\n",
              "      <td>Iris-setosa</td>\n",
              "    </tr>\n",
              "  </tbody>\n",
              "</table>\n",
              "</div>\n",
              "      <button class=\"colab-df-convert\" onclick=\"convertToInteractive('df-f00fde63-df9c-4208-b9a7-e7b8eaa7251d')\"\n",
              "              title=\"Convert this dataframe to an interactive table.\"\n",
              "              style=\"display:none;\">\n",
              "        \n",
              "  <svg xmlns=\"http://www.w3.org/2000/svg\" height=\"24px\"viewBox=\"0 0 24 24\"\n",
              "       width=\"24px\">\n",
              "    <path d=\"M0 0h24v24H0V0z\" fill=\"none\"/>\n",
              "    <path d=\"M18.56 5.44l.94 2.06.94-2.06 2.06-.94-2.06-.94-.94-2.06-.94 2.06-2.06.94zm-11 1L8.5 8.5l.94-2.06 2.06-.94-2.06-.94L8.5 2.5l-.94 2.06-2.06.94zm10 10l.94 2.06.94-2.06 2.06-.94-2.06-.94-.94-2.06-.94 2.06-2.06.94z\"/><path d=\"M17.41 7.96l-1.37-1.37c-.4-.4-.92-.59-1.43-.59-.52 0-1.04.2-1.43.59L10.3 9.45l-7.72 7.72c-.78.78-.78 2.05 0 2.83L4 21.41c.39.39.9.59 1.41.59.51 0 1.02-.2 1.41-.59l7.78-7.78 2.81-2.81c.8-.78.8-2.07 0-2.86zM5.41 20L4 18.59l7.72-7.72 1.47 1.35L5.41 20z\"/>\n",
              "  </svg>\n",
              "      </button>\n",
              "      \n",
              "  <style>\n",
              "    .colab-df-container {\n",
              "      display:flex;\n",
              "      flex-wrap:wrap;\n",
              "      gap: 12px;\n",
              "    }\n",
              "\n",
              "    .colab-df-convert {\n",
              "      background-color: #E8F0FE;\n",
              "      border: none;\n",
              "      border-radius: 50%;\n",
              "      cursor: pointer;\n",
              "      display: none;\n",
              "      fill: #1967D2;\n",
              "      height: 32px;\n",
              "      padding: 0 0 0 0;\n",
              "      width: 32px;\n",
              "    }\n",
              "\n",
              "    .colab-df-convert:hover {\n",
              "      background-color: #E2EBFA;\n",
              "      box-shadow: 0px 1px 2px rgba(60, 64, 67, 0.3), 0px 1px 3px 1px rgba(60, 64, 67, 0.15);\n",
              "      fill: #174EA6;\n",
              "    }\n",
              "\n",
              "    [theme=dark] .colab-df-convert {\n",
              "      background-color: #3B4455;\n",
              "      fill: #D2E3FC;\n",
              "    }\n",
              "\n",
              "    [theme=dark] .colab-df-convert:hover {\n",
              "      background-color: #434B5C;\n",
              "      box-shadow: 0px 1px 3px 1px rgba(0, 0, 0, 0.15);\n",
              "      filter: drop-shadow(0px 1px 2px rgba(0, 0, 0, 0.3));\n",
              "      fill: #FFFFFF;\n",
              "    }\n",
              "  </style>\n",
              "\n",
              "      <script>\n",
              "        const buttonEl =\n",
              "          document.querySelector('#df-f00fde63-df9c-4208-b9a7-e7b8eaa7251d button.colab-df-convert');\n",
              "        buttonEl.style.display =\n",
              "          google.colab.kernel.accessAllowed ? 'block' : 'none';\n",
              "\n",
              "        async function convertToInteractive(key) {\n",
              "          const element = document.querySelector('#df-f00fde63-df9c-4208-b9a7-e7b8eaa7251d');\n",
              "          const dataTable =\n",
              "            await google.colab.kernel.invokeFunction('convertToInteractive',\n",
              "                                                     [key], {});\n",
              "          if (!dataTable) return;\n",
              "\n",
              "          const docLinkHtml = 'Like what you see? Visit the ' +\n",
              "            '<a target=\"_blank\" href=https://colab.research.google.com/notebooks/data_table.ipynb>data table notebook</a>'\n",
              "            + ' to learn more about interactive tables.';\n",
              "          element.innerHTML = '';\n",
              "          dataTable['output_type'] = 'display_data';\n",
              "          await google.colab.output.renderOutput(dataTable, element);\n",
              "          const docLink = document.createElement('div');\n",
              "          docLink.innerHTML = docLinkHtml;\n",
              "          element.appendChild(docLink);\n",
              "        }\n",
              "      </script>\n",
              "    </div>\n",
              "  </div>\n",
              "  "
            ]
          },
          "metadata": {},
          "execution_count": 15
        }
      ]
    },
    {
      "cell_type": "markdown",
      "source": [
        "## Tipos de pruebas"
      ],
      "metadata": {
        "id": "NR8gvy_1JSku"
      }
    },
    {
      "cell_type": "markdown",
      "source": [
        "### Distribución t de Student"
      ],
      "metadata": {
        "id": "XfmAOVIaJVt3"
      }
    },
    {
      "cell_type": "markdown",
      "source": [
        "![formula3SE.png](data:image/png;base64,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)"
      ],
      "metadata": {
        "id": "ZjymUyofJfuj"
      }
    },
    {
      "cell_type": "code",
      "source": [
        "se_length = iris.std()['sepal-length']/np.sqrt(10)\n",
        "se_width = iris.std()['sepal-width']/np.sqrt(10)"
      ],
      "metadata": {
        "colab": {
          "base_uri": "https://localhost:8080/"
        },
        "id": "n6Mxx0O9JxCi",
        "outputId": "b629851d-d2a9-4439-c0bf-a00687dda078"
      },
      "execution_count": null,
      "outputs": [
        {
          "output_type": "stream",
          "name": "stderr",
          "text": [
            "<ipython-input-16-dfa5f4d17737>:1: FutureWarning: Dropping of nuisance columns in DataFrame reductions (with 'numeric_only=None') is deprecated; in a future version this will raise TypeError.  Select only valid columns before calling the reduction.\n",
            "  se_length = iris.std()['sepal-length']/np.sqrt(10)\n",
            "<ipython-input-16-dfa5f4d17737>:2: FutureWarning: Dropping of nuisance columns in DataFrame reductions (with 'numeric_only=None') is deprecated; in a future version this will raise TypeError.  Select only valid columns before calling the reduction.\n",
            "  se_width = iris.std()['sepal-width']/np.sqrt(10)\n"
          ]
        }
      ]
    },
    {
      "cell_type": "markdown",
      "source": [
        "![formula4SDE.png](data:image/png;base64,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)"
      ],
      "metadata": {
        "id": "ixkiZYL_KyBp"
      }
    },
    {
      "cell_type": "code",
      "source": [
        "sed = np.sqrt((se_length**2)+(se_width**2))"
      ],
      "metadata": {
        "id": "OUsDF4v9K0ot"
      },
      "execution_count": null,
      "outputs": []
    },
    {
      "cell_type": "markdown",
      "source": [
        "![formulat.png](data:image/png;base64,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)"
      ],
      "metadata": {
        "id": "rEKEUIeqLdRb"
      }
    },
    {
      "cell_type": "markdown",
      "source": [
        "![formula_t.png](data:image/png;base64,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)"
      ],
      "metadata": {
        "id": "C4xEKUWYLx7j"
      }
    },
    {
      "cell_type": "code",
      "source": [
        "t_stat = (iris.mean()['sepal-length']-iris.mean()['sepal-width'])/sed\n",
        "t_stat"
      ],
      "metadata": {
        "colab": {
          "base_uri": "https://localhost:8080/"
        },
        "id": "DD4znq6xL4AO",
        "outputId": "4ee50a06-a36d-45a2-f2b4-0c65eb4bc49e"
      },
      "execution_count": null,
      "outputs": [
        {
          "output_type": "stream",
          "name": "stderr",
          "text": [
            "<ipython-input-18-906994a1a2e5>:1: FutureWarning: Dropping of nuisance columns in DataFrame reductions (with 'numeric_only=None') is deprecated; in a future version this will raise TypeError.  Select only valid columns before calling the reduction.\n",
            "  t_stat = (iris.mean()['sepal-length']-iris.mean()['sepal-width'])/sed\n"
          ]
        },
        {
          "output_type": "execute_result",
          "data": {
            "text/plain": [
              "9.436693738890318"
            ]
          },
          "metadata": {},
          "execution_count": 18
        }
      ]
    },
    {
      "cell_type": "code",
      "source": [
        "p = ttest_ind(iris['sepal-length'],iris['sepal-width'])\n",
        "p"
      ],
      "metadata": {
        "colab": {
          "base_uri": "https://localhost:8080/"
        },
        "id": "7d40fo6VM9g4",
        "outputId": "8f96e00d-2322-4c7b-9024-63a701b3ca46"
      },
      "execution_count": null,
      "outputs": [
        {
          "output_type": "execute_result",
          "data": {
            "text/plain": [
              "Ttest_indResult(statistic=36.548157693982006, pvalue=3.987838114848222e-112)"
            ]
          },
          "metadata": {},
          "execution_count": 19
        }
      ]
    },
    {
      "cell_type": "markdown",
      "source": [
        "###Correlación y coeficiente de pearson"
      ],
      "metadata": {
        "id": "TtF3cYMaPyxx"
      }
    },
    {
      "cell_type": "code",
      "source": [
        "iris['sepal-length'].corr(iris['sepal-width'])"
      ],
      "metadata": {
        "colab": {
          "base_uri": "https://localhost:8080/"
        },
        "id": "I5L9UyBaP51o",
        "outputId": "9eb714a0-807f-4c12-adc7-d48ba00648cd"
      },
      "execution_count": null,
      "outputs": [
        {
          "output_type": "execute_result",
          "data": {
            "text/plain": [
              "-0.10936924995064937"
            ]
          },
          "metadata": {},
          "execution_count": 20
        }
      ]
    },
    {
      "cell_type": "code",
      "source": [
        "st.pearsonr(iris['sepal-length'],iris['sepal-width'])"
      ],
      "metadata": {
        "colab": {
          "base_uri": "https://localhost:8080/"
        },
        "id": "s8iV277DQhXq",
        "outputId": "d19d1bb8-3688-4d5a-b148-8b7a8c44b148"
      },
      "execution_count": null,
      "outputs": [
        {
          "output_type": "execute_result",
          "data": {
            "text/plain": [
              "(-0.10936924995064937, 0.1827652152713699)"
            ]
          },
          "metadata": {},
          "execution_count": 21
        }
      ]
    },
    {
      "cell_type": "markdown",
      "source": [
        "### Análisis de la varianza (ANOVA)"
      ],
      "metadata": {
        "id": "JwjXxSnlQ6du"
      }
    },
    {
      "cell_type": "code",
      "source": [
        "f_oneway(iris['sepal-length'],iris['sepal-width'])"
      ],
      "metadata": {
        "colab": {
          "base_uri": "https://localhost:8080/"
        },
        "id": "RCHCGRcPRG-x",
        "outputId": "eed07a6e-17ce-44d0-d5c9-1b63f557b74c"
      },
      "execution_count": null,
      "outputs": [
        {
          "output_type": "execute_result",
          "data": {
            "text/plain": [
              "F_onewayResult(statistic=1335.7678308241748, pvalue=3.9878381148486907e-112)"
            ]
          },
          "metadata": {},
          "execution_count": 22
        }
      ]
    },
    {
      "cell_type": "markdown",
      "source": [],
      "metadata": {
        "id": "ngFyrd3DTBEE"
      }
    },
    {
      "cell_type": "markdown",
      "source": [
        "#Bootstrapping en Python"
      ],
      "metadata": {
        "id": "CiIMrdfUTBHp"
      }
    },
    {
      "cell_type": "markdown",
      "source": [
        "### Importamos las librerias necesarias para el análisis"
      ],
      "metadata": {
        "id": "fZLvjr22THUY"
      }
    },
    {
      "cell_type": "code",
      "source": [
        "import pandas as pd \n",
        "import numpy as np\n",
        "import random"
      ],
      "metadata": {
        "id": "jP1EJ_UYTSGG"
      },
      "execution_count": null,
      "outputs": []
    },
    {
      "cell_type": "code",
      "source": [
        "data = np.random.normal(loc=34, size = 10000)\n",
        "data"
      ],
      "metadata": {
        "colab": {
          "base_uri": "https://localhost:8080/"
        },
        "id": "or-zu8xKTgQI",
        "outputId": "c0a8d7da-dc1a-4915-a972-37a8cea80282"
      },
      "execution_count": null,
      "outputs": [
        {
          "output_type": "execute_result",
          "data": {
            "text/plain": [
              "array([34.36476843, 34.67392623, 35.39471866, ..., 34.47596804,\n",
              "       34.77385438, 35.09482973])"
            ]
          },
          "metadata": {},
          "execution_count": 24
        }
      ]
    },
    {
      "cell_type": "code",
      "source": [
        "data.mean()"
      ],
      "metadata": {
        "colab": {
          "base_uri": "https://localhost:8080/"
        },
        "id": "dSrZ_aXbT0tx",
        "outputId": "3e9d2ebf-c383-4d5c-8c7c-54b2c212b39a"
      },
      "execution_count": null,
      "outputs": [
        {
          "output_type": "execute_result",
          "data": {
            "text/plain": [
              "34.013547992342666"
            ]
          },
          "metadata": {},
          "execution_count": 25
        }
      ]
    },
    {
      "cell_type": "markdown",
      "source": [
        "### Iniciamos bootstrapping para calcular el promedio de edades"
      ],
      "metadata": {
        "id": "kQeKQSeiT-L-"
      }
    },
    {
      "cell_type": "code",
      "source": [
        "promedio = []\n",
        "for i in range(40):\n",
        "  muestra = random.sample(data.tolist(),5)\n",
        "  prom = np.mean(muestra)\n",
        "  promedio.append(prom)"
      ],
      "metadata": {
        "id": "fpcDo9i-UI_9"
      },
      "execution_count": null,
      "outputs": []
    },
    {
      "cell_type": "code",
      "source": [
        "np.mean(promedio)"
      ],
      "metadata": {
        "colab": {
          "base_uri": "https://localhost:8080/"
        },
        "id": "cLdYikfyU2PQ",
        "outputId": "a3e56f47-7598-4e30-eda7-ee3fa3325c41"
      },
      "execution_count": null,
      "outputs": [
        {
          "output_type": "execute_result",
          "data": {
            "text/plain": [
              "33.985754372530934"
            ]
          },
          "metadata": {},
          "execution_count": 27
        }
      ]
    },
    {
      "cell_type": "markdown",
      "source": [
        "#Validación cruzada en Python"
      ],
      "metadata": {
        "id": "FXuLq4lqWCb_"
      }
    },
    {
      "cell_type": "markdown",
      "source": [
        "### Importamos las librerías necesarias para el análisis"
      ],
      "metadata": {
        "id": "lzfIBAm7WMec"
      }
    },
    {
      "cell_type": "code",
      "source": [
        "import pandas as pd\n",
        "import numpy as np\n",
        "import io"
      ],
      "metadata": {
        "id": "OJiacql4WHQG"
      },
      "execution_count": null,
      "outputs": []
    },
    {
      "cell_type": "code",
      "source": [
        "from google.colab import files\n",
        "uploaded = files.upload()"
      ],
      "metadata": {
        "colab": {
          "base_uri": "https://localhost:8080/",
          "height": 74
        },
        "id": "0EkhHYb-a8-G",
        "outputId": "a9e67927-7953-4fd5-9546-a2330b4b4d70"
      },
      "execution_count": null,
      "outputs": [
        {
          "output_type": "display_data",
          "data": {
            "text/plain": [
              "<IPython.core.display.HTML object>"
            ],
            "text/html": [
              "\n",
              "     <input type=\"file\" id=\"files-eb28720d-92cf-4920-a47d-59be6c092bd3\" name=\"files[]\" multiple disabled\n",
              "        style=\"border:none\" />\n",
              "     <output id=\"result-eb28720d-92cf-4920-a47d-59be6c092bd3\">\n",
              "      Upload widget is only available when the cell has been executed in the\n",
              "      current browser session. Please rerun this cell to enable.\n",
              "      </output>\n",
              "      <script>// Copyright 2017 Google LLC\n",
              "//\n",
              "// Licensed under the Apache License, Version 2.0 (the \"License\");\n",
              "// you may not use this file except in compliance with the License.\n",
              "// You may obtain a copy of the License at\n",
              "//\n",
              "//      http://www.apache.org/licenses/LICENSE-2.0\n",
              "//\n",
              "// Unless required by applicable law or agreed to in writing, software\n",
              "// distributed under the License is distributed on an \"AS IS\" BASIS,\n",
              "// WITHOUT WARRANTIES OR CONDITIONS OF ANY KIND, either express or implied.\n",
              "// See the License for the specific language governing permissions and\n",
              "// limitations under the License.\n",
              "\n",
              "/**\n",
              " * @fileoverview Helpers for google.colab Python module.\n",
              " */\n",
              "(function(scope) {\n",
              "function span(text, styleAttributes = {}) {\n",
              "  const element = document.createElement('span');\n",
              "  element.textContent = text;\n",
              "  for (const key of Object.keys(styleAttributes)) {\n",
              "    element.style[key] = styleAttributes[key];\n",
              "  }\n",
              "  return element;\n",
              "}\n",
              "\n",
              "// Max number of bytes which will be uploaded at a time.\n",
              "const MAX_PAYLOAD_SIZE = 100 * 1024;\n",
              "\n",
              "function _uploadFiles(inputId, outputId) {\n",
              "  const steps = uploadFilesStep(inputId, outputId);\n",
              "  const outputElement = document.getElementById(outputId);\n",
              "  // Cache steps on the outputElement to make it available for the next call\n",
              "  // to uploadFilesContinue from Python.\n",
              "  outputElement.steps = steps;\n",
              "\n",
              "  return _uploadFilesContinue(outputId);\n",
              "}\n",
              "\n",
              "// This is roughly an async generator (not supported in the browser yet),\n",
              "// where there are multiple asynchronous steps and the Python side is going\n",
              "// to poll for completion of each step.\n",
              "// This uses a Promise to block the python side on completion of each step,\n",
              "// then passes the result of the previous step as the input to the next step.\n",
              "function _uploadFilesContinue(outputId) {\n",
              "  const outputElement = document.getElementById(outputId);\n",
              "  const steps = outputElement.steps;\n",
              "\n",
              "  const next = steps.next(outputElement.lastPromiseValue);\n",
              "  return Promise.resolve(next.value.promise).then((value) => {\n",
              "    // Cache the last promise value to make it available to the next\n",
              "    // step of the generator.\n",
              "    outputElement.lastPromiseValue = value;\n",
              "    return next.value.response;\n",
              "  });\n",
              "}\n",
              "\n",
              "/**\n",
              " * Generator function which is called between each async step of the upload\n",
              " * process.\n",
              " * @param {string} inputId Element ID of the input file picker element.\n",
              " * @param {string} outputId Element ID of the output display.\n",
              " * @return {!Iterable<!Object>} Iterable of next steps.\n",
              " */\n",
              "function* uploadFilesStep(inputId, outputId) {\n",
              "  const inputElement = document.getElementById(inputId);\n",
              "  inputElement.disabled = false;\n",
              "\n",
              "  const outputElement = document.getElementById(outputId);\n",
              "  outputElement.innerHTML = '';\n",
              "\n",
              "  const pickedPromise = new Promise((resolve) => {\n",
              "    inputElement.addEventListener('change', (e) => {\n",
              "      resolve(e.target.files);\n",
              "    });\n",
              "  });\n",
              "\n",
              "  const cancel = document.createElement('button');\n",
              "  inputElement.parentElement.appendChild(cancel);\n",
              "  cancel.textContent = 'Cancel upload';\n",
              "  const cancelPromise = new Promise((resolve) => {\n",
              "    cancel.onclick = () => {\n",
              "      resolve(null);\n",
              "    };\n",
              "  });\n",
              "\n",
              "  // Wait for the user to pick the files.\n",
              "  const files = yield {\n",
              "    promise: Promise.race([pickedPromise, cancelPromise]),\n",
              "    response: {\n",
              "      action: 'starting',\n",
              "    }\n",
              "  };\n",
              "\n",
              "  cancel.remove();\n",
              "\n",
              "  // Disable the input element since further picks are not allowed.\n",
              "  inputElement.disabled = true;\n",
              "\n",
              "  if (!files) {\n",
              "    return {\n",
              "      response: {\n",
              "        action: 'complete',\n",
              "      }\n",
              "    };\n",
              "  }\n",
              "\n",
              "  for (const file of files) {\n",
              "    const li = document.createElement('li');\n",
              "    li.append(span(file.name, {fontWeight: 'bold'}));\n",
              "    li.append(span(\n",
              "        `(${file.type || 'n/a'}) - ${file.size} bytes, ` +\n",
              "        `last modified: ${\n",
              "            file.lastModifiedDate ? file.lastModifiedDate.toLocaleDateString() :\n",
              "                                    'n/a'} - `));\n",
              "    const percent = span('0% done');\n",
              "    li.appendChild(percent);\n",
              "\n",
              "    outputElement.appendChild(li);\n",
              "\n",
              "    const fileDataPromise = new Promise((resolve) => {\n",
              "      const reader = new FileReader();\n",
              "      reader.onload = (e) => {\n",
              "        resolve(e.target.result);\n",
              "      };\n",
              "      reader.readAsArrayBuffer(file);\n",
              "    });\n",
              "    // Wait for the data to be ready.\n",
              "    let fileData = yield {\n",
              "      promise: fileDataPromise,\n",
              "      response: {\n",
              "        action: 'continue',\n",
              "      }\n",
              "    };\n",
              "\n",
              "    // Use a chunked sending to avoid message size limits. See b/62115660.\n",
              "    let position = 0;\n",
              "    do {\n",
              "      const length = Math.min(fileData.byteLength - position, MAX_PAYLOAD_SIZE);\n",
              "      const chunk = new Uint8Array(fileData, position, length);\n",
              "      position += length;\n",
              "\n",
              "      const base64 = btoa(String.fromCharCode.apply(null, chunk));\n",
              "      yield {\n",
              "        response: {\n",
              "          action: 'append',\n",
              "          file: file.name,\n",
              "          data: base64,\n",
              "        },\n",
              "      };\n",
              "\n",
              "      let percentDone = fileData.byteLength === 0 ?\n",
              "          100 :\n",
              "          Math.round((position / fileData.byteLength) * 100);\n",
              "      percent.textContent = `${percentDone}% done`;\n",
              "\n",
              "    } while (position < fileData.byteLength);\n",
              "  }\n",
              "\n",
              "  // All done.\n",
              "  yield {\n",
              "    response: {\n",
              "      action: 'complete',\n",
              "    }\n",
              "  };\n",
              "}\n",
              "\n",
              "scope.google = scope.google || {};\n",
              "scope.google.colab = scope.google.colab || {};\n",
              "scope.google.colab._files = {\n",
              "  _uploadFiles,\n",
              "  _uploadFilesContinue,\n",
              "};\n",
              "})(self);\n",
              "</script> "
            ]
          },
          "metadata": {}
        },
        {
          "output_type": "stream",
          "name": "stdout",
          "text": [
            "Saving data.csv to data.csv\n"
          ]
        }
      ]
    },
    {
      "cell_type": "code",
      "source": [
        "df = pd.read_csv(io.BytesIO(uploaded[\"data.csv\"]))\n",
        "df"
      ],
      "metadata": {
        "colab": {
          "base_uri": "https://localhost:8080/",
          "height": 505
        },
        "id": "u1FVAZA5bQvU",
        "outputId": "82d4aae0-7c6a-45ac-8273-160bb7cd5db0"
      },
      "execution_count": null,
      "outputs": [
        {
          "output_type": "execute_result",
          "data": {
            "text/plain": [
              "           id diagnosis  radius_mean  texture_mean  perimeter_mean  area_mean  \\\n",
              "0      842302         M        17.99         10.38          122.80     1001.0   \n",
              "1      842517         M        20.57         17.77          132.90     1326.0   \n",
              "2    84300903         M        19.69         21.25          130.00     1203.0   \n",
              "3    84348301         M        11.42         20.38           77.58      386.1   \n",
              "4    84358402         M        20.29         14.34          135.10     1297.0   \n",
              "..        ...       ...          ...           ...             ...        ...   \n",
              "564    926424         M        21.56         22.39          142.00     1479.0   \n",
              "565    926682         M        20.13         28.25          131.20     1261.0   \n",
              "566    926954         M        16.60         28.08          108.30      858.1   \n",
              "567    927241         M        20.60         29.33          140.10     1265.0   \n",
              "568     92751         B         7.76         24.54           47.92      181.0   \n",
              "\n",
              "     smoothness_mean  compactness_mean  concavity_mean  concave points_mean  \\\n",
              "0            0.11840           0.27760         0.30010              0.14710   \n",
              "1            0.08474           0.07864         0.08690              0.07017   \n",
              "2            0.10960           0.15990         0.19740              0.12790   \n",
              "3            0.14250           0.28390         0.24140              0.10520   \n",
              "4            0.10030           0.13280         0.19800              0.10430   \n",
              "..               ...               ...             ...                  ...   \n",
              "564          0.11100           0.11590         0.24390              0.13890   \n",
              "565          0.09780           0.10340         0.14400              0.09791   \n",
              "566          0.08455           0.10230         0.09251              0.05302   \n",
              "567          0.11780           0.27700         0.35140              0.15200   \n",
              "568          0.05263           0.04362         0.00000              0.00000   \n",
              "\n",
              "     ...  texture_worst  perimeter_worst  area_worst  smoothness_worst  \\\n",
              "0    ...          17.33           184.60      2019.0           0.16220   \n",
              "1    ...          23.41           158.80      1956.0           0.12380   \n",
              "2    ...          25.53           152.50      1709.0           0.14440   \n",
              "3    ...          26.50            98.87       567.7           0.20980   \n",
              "4    ...          16.67           152.20      1575.0           0.13740   \n",
              "..   ...            ...              ...         ...               ...   \n",
              "564  ...          26.40           166.10      2027.0           0.14100   \n",
              "565  ...          38.25           155.00      1731.0           0.11660   \n",
              "566  ...          34.12           126.70      1124.0           0.11390   \n",
              "567  ...          39.42           184.60      1821.0           0.16500   \n",
              "568  ...          30.37            59.16       268.6           0.08996   \n",
              "\n",
              "     compactness_worst  concavity_worst  concave points_worst  symmetry_worst  \\\n",
              "0              0.66560           0.7119                0.2654          0.4601   \n",
              "1              0.18660           0.2416                0.1860          0.2750   \n",
              "2              0.42450           0.4504                0.2430          0.3613   \n",
              "3              0.86630           0.6869                0.2575          0.6638   \n",
              "4              0.20500           0.4000                0.1625          0.2364   \n",
              "..                 ...              ...                   ...             ...   \n",
              "564            0.21130           0.4107                0.2216          0.2060   \n",
              "565            0.19220           0.3215                0.1628          0.2572   \n",
              "566            0.30940           0.3403                0.1418          0.2218   \n",
              "567            0.86810           0.9387                0.2650          0.4087   \n",
              "568            0.06444           0.0000                0.0000          0.2871   \n",
              "\n",
              "     fractal_dimension_worst  Unnamed: 32  \n",
              "0                    0.11890          NaN  \n",
              "1                    0.08902          NaN  \n",
              "2                    0.08758          NaN  \n",
              "3                    0.17300          NaN  \n",
              "4                    0.07678          NaN  \n",
              "..                       ...          ...  \n",
              "564                  0.07115          NaN  \n",
              "565                  0.06637          NaN  \n",
              "566                  0.07820          NaN  \n",
              "567                  0.12400          NaN  \n",
              "568                  0.07039          NaN  \n",
              "\n",
              "[569 rows x 33 columns]"
            ],
            "text/html": [
              "\n",
              "  <div id=\"df-6cb4cf34-b006-488c-85ce-c0dc9f7431d7\">\n",
              "    <div class=\"colab-df-container\">\n",
              "      <div>\n",
              "<style scoped>\n",
              "    .dataframe tbody tr th:only-of-type {\n",
              "        vertical-align: middle;\n",
              "    }\n",
              "\n",
              "    .dataframe tbody tr th {\n",
              "        vertical-align: top;\n",
              "    }\n",
              "\n",
              "    .dataframe thead th {\n",
              "        text-align: right;\n",
              "    }\n",
              "</style>\n",
              "<table border=\"1\" class=\"dataframe\">\n",
              "  <thead>\n",
              "    <tr style=\"text-align: right;\">\n",
              "      <th></th>\n",
              "      <th>id</th>\n",
              "      <th>diagnosis</th>\n",
              "      <th>radius_mean</th>\n",
              "      <th>texture_mean</th>\n",
              "      <th>perimeter_mean</th>\n",
              "      <th>area_mean</th>\n",
              "      <th>smoothness_mean</th>\n",
              "      <th>compactness_mean</th>\n",
              "      <th>concavity_mean</th>\n",
              "      <th>concave points_mean</th>\n",
              "      <th>...</th>\n",
              "      <th>texture_worst</th>\n",
              "      <th>perimeter_worst</th>\n",
              "      <th>area_worst</th>\n",
              "      <th>smoothness_worst</th>\n",
              "      <th>compactness_worst</th>\n",
              "      <th>concavity_worst</th>\n",
              "      <th>concave points_worst</th>\n",
              "      <th>symmetry_worst</th>\n",
              "      <th>fractal_dimension_worst</th>\n",
              "      <th>Unnamed: 32</th>\n",
              "    </tr>\n",
              "  </thead>\n",
              "  <tbody>\n",
              "    <tr>\n",
              "      <th>0</th>\n",
              "      <td>842302</td>\n",
              "      <td>M</td>\n",
              "      <td>17.99</td>\n",
              "      <td>10.38</td>\n",
              "      <td>122.80</td>\n",
              "      <td>1001.0</td>\n",
              "      <td>0.11840</td>\n",
              "      <td>0.27760</td>\n",
              "      <td>0.30010</td>\n",
              "      <td>0.14710</td>\n",
              "      <td>...</td>\n",
              "      <td>17.33</td>\n",
              "      <td>184.60</td>\n",
              "      <td>2019.0</td>\n",
              "      <td>0.16220</td>\n",
              "      <td>0.66560</td>\n",
              "      <td>0.7119</td>\n",
              "      <td>0.2654</td>\n",
              "      <td>0.4601</td>\n",
              "      <td>0.11890</td>\n",
              "      <td>NaN</td>\n",
              "    </tr>\n",
              "    <tr>\n",
              "      <th>1</th>\n",
              "      <td>842517</td>\n",
              "      <td>M</td>\n",
              "      <td>20.57</td>\n",
              "      <td>17.77</td>\n",
              "      <td>132.90</td>\n",
              "      <td>1326.0</td>\n",
              "      <td>0.08474</td>\n",
              "      <td>0.07864</td>\n",
              "      <td>0.08690</td>\n",
              "      <td>0.07017</td>\n",
              "      <td>...</td>\n",
              "      <td>23.41</td>\n",
              "      <td>158.80</td>\n",
              "      <td>1956.0</td>\n",
              "      <td>0.12380</td>\n",
              "      <td>0.18660</td>\n",
              "      <td>0.2416</td>\n",
              "      <td>0.1860</td>\n",
              "      <td>0.2750</td>\n",
              "      <td>0.08902</td>\n",
              "      <td>NaN</td>\n",
              "    </tr>\n",
              "    <tr>\n",
              "      <th>2</th>\n",
              "      <td>84300903</td>\n",
              "      <td>M</td>\n",
              "      <td>19.69</td>\n",
              "      <td>21.25</td>\n",
              "      <td>130.00</td>\n",
              "      <td>1203.0</td>\n",
              "      <td>0.10960</td>\n",
              "      <td>0.15990</td>\n",
              "      <td>0.19740</td>\n",
              "      <td>0.12790</td>\n",
              "      <td>...</td>\n",
              "      <td>25.53</td>\n",
              "      <td>152.50</td>\n",
              "      <td>1709.0</td>\n",
              "      <td>0.14440</td>\n",
              "      <td>0.42450</td>\n",
              "      <td>0.4504</td>\n",
              "      <td>0.2430</td>\n",
              "      <td>0.3613</td>\n",
              "      <td>0.08758</td>\n",
              "      <td>NaN</td>\n",
              "    </tr>\n",
              "    <tr>\n",
              "      <th>3</th>\n",
              "      <td>84348301</td>\n",
              "      <td>M</td>\n",
              "      <td>11.42</td>\n",
              "      <td>20.38</td>\n",
              "      <td>77.58</td>\n",
              "      <td>386.1</td>\n",
              "      <td>0.14250</td>\n",
              "      <td>0.28390</td>\n",
              "      <td>0.24140</td>\n",
              "      <td>0.10520</td>\n",
              "      <td>...</td>\n",
              "      <td>26.50</td>\n",
              "      <td>98.87</td>\n",
              "      <td>567.7</td>\n",
              "      <td>0.20980</td>\n",
              "      <td>0.86630</td>\n",
              "      <td>0.6869</td>\n",
              "      <td>0.2575</td>\n",
              "      <td>0.6638</td>\n",
              "      <td>0.17300</td>\n",
              "      <td>NaN</td>\n",
              "    </tr>\n",
              "    <tr>\n",
              "      <th>4</th>\n",
              "      <td>84358402</td>\n",
              "      <td>M</td>\n",
              "      <td>20.29</td>\n",
              "      <td>14.34</td>\n",
              "      <td>135.10</td>\n",
              "      <td>1297.0</td>\n",
              "      <td>0.10030</td>\n",
              "      <td>0.13280</td>\n",
              "      <td>0.19800</td>\n",
              "      <td>0.10430</td>\n",
              "      <td>...</td>\n",
              "      <td>16.67</td>\n",
              "      <td>152.20</td>\n",
              "      <td>1575.0</td>\n",
              "      <td>0.13740</td>\n",
              "      <td>0.20500</td>\n",
              "      <td>0.4000</td>\n",
              "      <td>0.1625</td>\n",
              "      <td>0.2364</td>\n",
              "      <td>0.07678</td>\n",
              "      <td>NaN</td>\n",
              "    </tr>\n",
              "    <tr>\n",
              "      <th>...</th>\n",
              "      <td>...</td>\n",
              "      <td>...</td>\n",
              "      <td>...</td>\n",
              "      <td>...</td>\n",
              "      <td>...</td>\n",
              "      <td>...</td>\n",
              "      <td>...</td>\n",
              "      <td>...</td>\n",
              "      <td>...</td>\n",
              "      <td>...</td>\n",
              "      <td>...</td>\n",
              "      <td>...</td>\n",
              "      <td>...</td>\n",
              "      <td>...</td>\n",
              "      <td>...</td>\n",
              "      <td>...</td>\n",
              "      <td>...</td>\n",
              "      <td>...</td>\n",
              "      <td>...</td>\n",
              "      <td>...</td>\n",
              "      <td>...</td>\n",
              "    </tr>\n",
              "    <tr>\n",
              "      <th>564</th>\n",
              "      <td>926424</td>\n",
              "      <td>M</td>\n",
              "      <td>21.56</td>\n",
              "      <td>22.39</td>\n",
              "      <td>142.00</td>\n",
              "      <td>1479.0</td>\n",
              "      <td>0.11100</td>\n",
              "      <td>0.11590</td>\n",
              "      <td>0.24390</td>\n",
              "      <td>0.13890</td>\n",
              "      <td>...</td>\n",
              "      <td>26.40</td>\n",
              "      <td>166.10</td>\n",
              "      <td>2027.0</td>\n",
              "      <td>0.14100</td>\n",
              "      <td>0.21130</td>\n",
              "      <td>0.4107</td>\n",
              "      <td>0.2216</td>\n",
              "      <td>0.2060</td>\n",
              "      <td>0.07115</td>\n",
              "      <td>NaN</td>\n",
              "    </tr>\n",
              "    <tr>\n",
              "      <th>565</th>\n",
              "      <td>926682</td>\n",
              "      <td>M</td>\n",
              "      <td>20.13</td>\n",
              "      <td>28.25</td>\n",
              "      <td>131.20</td>\n",
              "      <td>1261.0</td>\n",
              "      <td>0.09780</td>\n",
              "      <td>0.10340</td>\n",
              "      <td>0.14400</td>\n",
              "      <td>0.09791</td>\n",
              "      <td>...</td>\n",
              "      <td>38.25</td>\n",
              "      <td>155.00</td>\n",
              "      <td>1731.0</td>\n",
              "      <td>0.11660</td>\n",
              "      <td>0.19220</td>\n",
              "      <td>0.3215</td>\n",
              "      <td>0.1628</td>\n",
              "      <td>0.2572</td>\n",
              "      <td>0.06637</td>\n",
              "      <td>NaN</td>\n",
              "    </tr>\n",
              "    <tr>\n",
              "      <th>566</th>\n",
              "      <td>926954</td>\n",
              "      <td>M</td>\n",
              "      <td>16.60</td>\n",
              "      <td>28.08</td>\n",
              "      <td>108.30</td>\n",
              "      <td>858.1</td>\n",
              "      <td>0.08455</td>\n",
              "      <td>0.10230</td>\n",
              "      <td>0.09251</td>\n",
              "      <td>0.05302</td>\n",
              "      <td>...</td>\n",
              "      <td>34.12</td>\n",
              "      <td>126.70</td>\n",
              "      <td>1124.0</td>\n",
              "      <td>0.11390</td>\n",
              "      <td>0.30940</td>\n",
              "      <td>0.3403</td>\n",
              "      <td>0.1418</td>\n",
              "      <td>0.2218</td>\n",
              "      <td>0.07820</td>\n",
              "      <td>NaN</td>\n",
              "    </tr>\n",
              "    <tr>\n",
              "      <th>567</th>\n",
              "      <td>927241</td>\n",
              "      <td>M</td>\n",
              "      <td>20.60</td>\n",
              "      <td>29.33</td>\n",
              "      <td>140.10</td>\n",
              "      <td>1265.0</td>\n",
              "      <td>0.11780</td>\n",
              "      <td>0.27700</td>\n",
              "      <td>0.35140</td>\n",
              "      <td>0.15200</td>\n",
              "      <td>...</td>\n",
              "      <td>39.42</td>\n",
              "      <td>184.60</td>\n",
              "      <td>1821.0</td>\n",
              "      <td>0.16500</td>\n",
              "      <td>0.86810</td>\n",
              "      <td>0.9387</td>\n",
              "      <td>0.2650</td>\n",
              "      <td>0.4087</td>\n",
              "      <td>0.12400</td>\n",
              "      <td>NaN</td>\n",
              "    </tr>\n",
              "    <tr>\n",
              "      <th>568</th>\n",
              "      <td>92751</td>\n",
              "      <td>B</td>\n",
              "      <td>7.76</td>\n",
              "      <td>24.54</td>\n",
              "      <td>47.92</td>\n",
              "      <td>181.0</td>\n",
              "      <td>0.05263</td>\n",
              "      <td>0.04362</td>\n",
              "      <td>0.00000</td>\n",
              "      <td>0.00000</td>\n",
              "      <td>...</td>\n",
              "      <td>30.37</td>\n",
              "      <td>59.16</td>\n",
              "      <td>268.6</td>\n",
              "      <td>0.08996</td>\n",
              "      <td>0.06444</td>\n",
              "      <td>0.0000</td>\n",
              "      <td>0.0000</td>\n",
              "      <td>0.2871</td>\n",
              "      <td>0.07039</td>\n",
              "      <td>NaN</td>\n",
              "    </tr>\n",
              "  </tbody>\n",
              "</table>\n",
              "<p>569 rows × 33 columns</p>\n",
              "</div>\n",
              "      <button class=\"colab-df-convert\" onclick=\"convertToInteractive('df-6cb4cf34-b006-488c-85ce-c0dc9f7431d7')\"\n",
              "              title=\"Convert this dataframe to an interactive table.\"\n",
              "              style=\"display:none;\">\n",
              "        \n",
              "  <svg xmlns=\"http://www.w3.org/2000/svg\" height=\"24px\"viewBox=\"0 0 24 24\"\n",
              "       width=\"24px\">\n",
              "    <path d=\"M0 0h24v24H0V0z\" fill=\"none\"/>\n",
              "    <path d=\"M18.56 5.44l.94 2.06.94-2.06 2.06-.94-2.06-.94-.94-2.06-.94 2.06-2.06.94zm-11 1L8.5 8.5l.94-2.06 2.06-.94-2.06-.94L8.5 2.5l-.94 2.06-2.06.94zm10 10l.94 2.06.94-2.06 2.06-.94-2.06-.94-.94-2.06-.94 2.06-2.06.94z\"/><path d=\"M17.41 7.96l-1.37-1.37c-.4-.4-.92-.59-1.43-.59-.52 0-1.04.2-1.43.59L10.3 9.45l-7.72 7.72c-.78.78-.78 2.05 0 2.83L4 21.41c.39.39.9.59 1.41.59.51 0 1.02-.2 1.41-.59l7.78-7.78 2.81-2.81c.8-.78.8-2.07 0-2.86zM5.41 20L4 18.59l7.72-7.72 1.47 1.35L5.41 20z\"/>\n",
              "  </svg>\n",
              "      </button>\n",
              "      \n",
              "  <style>\n",
              "    .colab-df-container {\n",
              "      display:flex;\n",
              "      flex-wrap:wrap;\n",
              "      gap: 12px;\n",
              "    }\n",
              "\n",
              "    .colab-df-convert {\n",
              "      background-color: #E8F0FE;\n",
              "      border: none;\n",
              "      border-radius: 50%;\n",
              "      cursor: pointer;\n",
              "      display: none;\n",
              "      fill: #1967D2;\n",
              "      height: 32px;\n",
              "      padding: 0 0 0 0;\n",
              "      width: 32px;\n",
              "    }\n",
              "\n",
              "    .colab-df-convert:hover {\n",
              "      background-color: #E2EBFA;\n",
              "      box-shadow: 0px 1px 2px rgba(60, 64, 67, 0.3), 0px 1px 3px 1px rgba(60, 64, 67, 0.15);\n",
              "      fill: #174EA6;\n",
              "    }\n",
              "\n",
              "    [theme=dark] .colab-df-convert {\n",
              "      background-color: #3B4455;\n",
              "      fill: #D2E3FC;\n",
              "    }\n",
              "\n",
              "    [theme=dark] .colab-df-convert:hover {\n",
              "      background-color: #434B5C;\n",
              "      box-shadow: 0px 1px 3px 1px rgba(0, 0, 0, 0.15);\n",
              "      filter: drop-shadow(0px 1px 2px rgba(0, 0, 0, 0.3));\n",
              "      fill: #FFFFFF;\n",
              "    }\n",
              "  </style>\n",
              "\n",
              "      <script>\n",
              "        const buttonEl =\n",
              "          document.querySelector('#df-6cb4cf34-b006-488c-85ce-c0dc9f7431d7 button.colab-df-convert');\n",
              "        buttonEl.style.display =\n",
              "          google.colab.kernel.accessAllowed ? 'block' : 'none';\n",
              "\n",
              "        async function convertToInteractive(key) {\n",
              "          const element = document.querySelector('#df-6cb4cf34-b006-488c-85ce-c0dc9f7431d7');\n",
              "          const dataTable =\n",
              "            await google.colab.kernel.invokeFunction('convertToInteractive',\n",
              "                                                     [key], {});\n",
              "          if (!dataTable) return;\n",
              "\n",
              "          const docLinkHtml = 'Like what you see? Visit the ' +\n",
              "            '<a target=\"_blank\" href=https://colab.research.google.com/notebooks/data_table.ipynb>data table notebook</a>'\n",
              "            + ' to learn more about interactive tables.';\n",
              "          element.innerHTML = '';\n",
              "          dataTable['output_type'] = 'display_data';\n",
              "          await google.colab.output.renderOutput(dataTable, element);\n",
              "          const docLink = document.createElement('div');\n",
              "          docLink.innerHTML = docLinkHtml;\n",
              "          element.appendChild(docLink);\n",
              "        }\n",
              "      </script>\n",
              "    </div>\n",
              "  </div>\n",
              "  "
            ]
          },
          "metadata": {},
          "execution_count": 33
        }
      ]
    },
    {
      "cell_type": "code",
      "source": [
        "df.dropna(inplace=True)"
      ],
      "metadata": {
        "id": "EGC9yIW0gT4m"
      },
      "execution_count": null,
      "outputs": []
    },
    {
      "cell_type": "code",
      "source": [
        "x = df.iloc[:,2:]\n",
        "y = df.iloc[:,1]"
      ],
      "metadata": {
        "id": "T9554Zn7b4yC"
      },
      "execution_count": null,
      "outputs": []
    },
    {
      "cell_type": "code",
      "source": [
        "x.head()"
      ],
      "metadata": {
        "colab": {
          "base_uri": "https://localhost:8080/",
          "height": 160
        },
        "id": "bpvQUOcqcKq2",
        "outputId": "7eaa7f87-24f9-4312-c2b9-6a45b6d743a4"
      },
      "execution_count": null,
      "outputs": [
        {
          "output_type": "execute_result",
          "data": {
            "text/plain": [
              "Empty DataFrame\n",
              "Columns: [radius_mean, texture_mean, perimeter_mean, area_mean, smoothness_mean, compactness_mean, concavity_mean, concave points_mean, symmetry_mean, fractal_dimension_mean, radius_se, texture_se, perimeter_se, area_se, smoothness_se, compactness_se, concavity_se, concave points_se, symmetry_se, fractal_dimension_se, radius_worst, texture_worst, perimeter_worst, area_worst, smoothness_worst, compactness_worst, concavity_worst, concave points_worst, symmetry_worst, fractal_dimension_worst, Unnamed: 32]\n",
              "Index: []\n",
              "\n",
              "[0 rows x 31 columns]"
            ],
            "text/html": [
              "\n",
              "  <div id=\"df-32391217-9e74-4790-8a4f-f8923de5970b\">\n",
              "    <div class=\"colab-df-container\">\n",
              "      <div>\n",
              "<style scoped>\n",
              "    .dataframe tbody tr th:only-of-type {\n",
              "        vertical-align: middle;\n",
              "    }\n",
              "\n",
              "    .dataframe tbody tr th {\n",
              "        vertical-align: top;\n",
              "    }\n",
              "\n",
              "    .dataframe thead th {\n",
              "        text-align: right;\n",
              "    }\n",
              "</style>\n",
              "<table border=\"1\" class=\"dataframe\">\n",
              "  <thead>\n",
              "    <tr style=\"text-align: right;\">\n",
              "      <th></th>\n",
              "      <th>radius_mean</th>\n",
              "      <th>texture_mean</th>\n",
              "      <th>perimeter_mean</th>\n",
              "      <th>area_mean</th>\n",
              "      <th>smoothness_mean</th>\n",
              "      <th>compactness_mean</th>\n",
              "      <th>concavity_mean</th>\n",
              "      <th>concave points_mean</th>\n",
              "      <th>symmetry_mean</th>\n",
              "      <th>fractal_dimension_mean</th>\n",
              "      <th>...</th>\n",
              "      <th>texture_worst</th>\n",
              "      <th>perimeter_worst</th>\n",
              "      <th>area_worst</th>\n",
              "      <th>smoothness_worst</th>\n",
              "      <th>compactness_worst</th>\n",
              "      <th>concavity_worst</th>\n",
              "      <th>concave points_worst</th>\n",
              "      <th>symmetry_worst</th>\n",
              "      <th>fractal_dimension_worst</th>\n",
              "      <th>Unnamed: 32</th>\n",
              "    </tr>\n",
              "  </thead>\n",
              "  <tbody>\n",
              "  </tbody>\n",
              "</table>\n",
              "<p>0 rows × 31 columns</p>\n",
              "</div>\n",
              "      <button class=\"colab-df-convert\" onclick=\"convertToInteractive('df-32391217-9e74-4790-8a4f-f8923de5970b')\"\n",
              "              title=\"Convert this dataframe to an interactive table.\"\n",
              "              style=\"display:none;\">\n",
              "        \n",
              "  <svg xmlns=\"http://www.w3.org/2000/svg\" height=\"24px\"viewBox=\"0 0 24 24\"\n",
              "       width=\"24px\">\n",
              "    <path d=\"M0 0h24v24H0V0z\" fill=\"none\"/>\n",
              "    <path d=\"M18.56 5.44l.94 2.06.94-2.06 2.06-.94-2.06-.94-.94-2.06-.94 2.06-2.06.94zm-11 1L8.5 8.5l.94-2.06 2.06-.94-2.06-.94L8.5 2.5l-.94 2.06-2.06.94zm10 10l.94 2.06.94-2.06 2.06-.94-2.06-.94-.94-2.06-.94 2.06-2.06.94z\"/><path d=\"M17.41 7.96l-1.37-1.37c-.4-.4-.92-.59-1.43-.59-.52 0-1.04.2-1.43.59L10.3 9.45l-7.72 7.72c-.78.78-.78 2.05 0 2.83L4 21.41c.39.39.9.59 1.41.59.51 0 1.02-.2 1.41-.59l7.78-7.78 2.81-2.81c.8-.78.8-2.07 0-2.86zM5.41 20L4 18.59l7.72-7.72 1.47 1.35L5.41 20z\"/>\n",
              "  </svg>\n",
              "      </button>\n",
              "      \n",
              "  <style>\n",
              "    .colab-df-container {\n",
              "      display:flex;\n",
              "      flex-wrap:wrap;\n",
              "      gap: 12px;\n",
              "    }\n",
              "\n",
              "    .colab-df-convert {\n",
              "      background-color: #E8F0FE;\n",
              "      border: none;\n",
              "      border-radius: 50%;\n",
              "      cursor: pointer;\n",
              "      display: none;\n",
              "      fill: #1967D2;\n",
              "      height: 32px;\n",
              "      padding: 0 0 0 0;\n",
              "      width: 32px;\n",
              "    }\n",
              "\n",
              "    .colab-df-convert:hover {\n",
              "      background-color: #E2EBFA;\n",
              "      box-shadow: 0px 1px 2px rgba(60, 64, 67, 0.3), 0px 1px 3px 1px rgba(60, 64, 67, 0.15);\n",
              "      fill: #174EA6;\n",
              "    }\n",
              "\n",
              "    [theme=dark] .colab-df-convert {\n",
              "      background-color: #3B4455;\n",
              "      fill: #D2E3FC;\n",
              "    }\n",
              "\n",
              "    [theme=dark] .colab-df-convert:hover {\n",
              "      background-color: #434B5C;\n",
              "      box-shadow: 0px 1px 3px 1px rgba(0, 0, 0, 0.15);\n",
              "      filter: drop-shadow(0px 1px 2px rgba(0, 0, 0, 0.3));\n",
              "      fill: #FFFFFF;\n",
              "    }\n",
              "  </style>\n",
              "\n",
              "      <script>\n",
              "        const buttonEl =\n",
              "          document.querySelector('#df-32391217-9e74-4790-8a4f-f8923de5970b button.colab-df-convert');\n",
              "        buttonEl.style.display =\n",
              "          google.colab.kernel.accessAllowed ? 'block' : 'none';\n",
              "\n",
              "        async function convertToInteractive(key) {\n",
              "          const element = document.querySelector('#df-32391217-9e74-4790-8a4f-f8923de5970b');\n",
              "          const dataTable =\n",
              "            await google.colab.kernel.invokeFunction('convertToInteractive',\n",
              "                                                     [key], {});\n",
              "          if (!dataTable) return;\n",
              "\n",
              "          const docLinkHtml = 'Like what you see? Visit the ' +\n",
              "            '<a target=\"_blank\" href=https://colab.research.google.com/notebooks/data_table.ipynb>data table notebook</a>'\n",
              "            + ' to learn more about interactive tables.';\n",
              "          element.innerHTML = '';\n",
              "          dataTable['output_type'] = 'display_data';\n",
              "          await google.colab.output.renderOutput(dataTable, element);\n",
              "          const docLink = document.createElement('div');\n",
              "          docLink.innerHTML = docLinkHtml;\n",
              "          element.appendChild(docLink);\n",
              "        }\n",
              "      </script>\n",
              "    </div>\n",
              "  </div>\n",
              "  "
            ]
          },
          "metadata": {},
          "execution_count": 36
        }
      ]
    },
    {
      "cell_type": "code",
      "source": [
        "y.value_counts()"
      ],
      "metadata": {
        "colab": {
          "base_uri": "https://localhost:8080/"
        },
        "id": "L-Q8iPjrcUj1",
        "outputId": "700a0ebd-2026-4a5c-b239-30f812a5a6bb"
      },
      "execution_count": null,
      "outputs": [
        {
          "output_type": "execute_result",
          "data": {
            "text/plain": [
              "Series([], Name: diagnosis, dtype: int64)"
            ]
          },
          "metadata": {},
          "execution_count": 37
        }
      ]
    },
    {
      "cell_type": "code",
      "source": [
        "from sklearn.tree import DecisionTreeClassifier\n",
        "from sklearn.model_selection import train_test_split\n",
        "\n",
        "x_train, x_test, y_train, y_test = train_test_split(x, y, test_size = 0.3, random_state = 4)\n",
        "modelo = DecisionTreeClassifier()\n",
        "modelo.fit(x_train, y_train)\n",
        "resultado = modelo.score(x_test, y_test)\n",
        "print(resultado)"
      ],
      "metadata": {
        "colab": {
          "base_uri": "https://localhost:8080/",
          "height": 380
        },
        "id": "SXw1himdcXJk",
        "outputId": "6852cea9-311e-470e-b06d-86a6634303be"
      },
      "execution_count": null,
      "outputs": [
        {
          "output_type": "error",
          "ename": "ValueError",
          "evalue": "ignored",
          "traceback": [
            "\u001b[0;31m---------------------------------------------------------------------------\u001b[0m",
            "\u001b[0;31mValueError\u001b[0m                                Traceback (most recent call last)",
            "\u001b[0;32m<ipython-input-38-47e806702554>\u001b[0m in \u001b[0;36m<module>\u001b[0;34m\u001b[0m\n\u001b[1;32m      2\u001b[0m \u001b[0;32mfrom\u001b[0m \u001b[0msklearn\u001b[0m\u001b[0;34m.\u001b[0m\u001b[0mmodel_selection\u001b[0m \u001b[0;32mimport\u001b[0m \u001b[0mtrain_test_split\u001b[0m\u001b[0;34m\u001b[0m\u001b[0;34m\u001b[0m\u001b[0m\n\u001b[1;32m      3\u001b[0m \u001b[0;34m\u001b[0m\u001b[0m\n\u001b[0;32m----> 4\u001b[0;31m \u001b[0mx_train\u001b[0m\u001b[0;34m,\u001b[0m \u001b[0mx_test\u001b[0m\u001b[0;34m,\u001b[0m \u001b[0my_train\u001b[0m\u001b[0;34m,\u001b[0m \u001b[0my_test\u001b[0m \u001b[0;34m=\u001b[0m \u001b[0mtrain_test_split\u001b[0m\u001b[0;34m(\u001b[0m\u001b[0mx\u001b[0m\u001b[0;34m,\u001b[0m \u001b[0my\u001b[0m\u001b[0;34m,\u001b[0m \u001b[0mtest_size\u001b[0m \u001b[0;34m=\u001b[0m \u001b[0;36m0.3\u001b[0m\u001b[0;34m,\u001b[0m \u001b[0mrandom_state\u001b[0m \u001b[0;34m=\u001b[0m \u001b[0;36m4\u001b[0m\u001b[0;34m)\u001b[0m\u001b[0;34m\u001b[0m\u001b[0;34m\u001b[0m\u001b[0m\n\u001b[0m\u001b[1;32m      5\u001b[0m \u001b[0mmodelo\u001b[0m \u001b[0;34m=\u001b[0m \u001b[0mDecisionTreeClassifier\u001b[0m\u001b[0;34m(\u001b[0m\u001b[0;34m)\u001b[0m\u001b[0;34m\u001b[0m\u001b[0;34m\u001b[0m\u001b[0m\n\u001b[1;32m      6\u001b[0m \u001b[0mmodelo\u001b[0m\u001b[0;34m.\u001b[0m\u001b[0mfit\u001b[0m\u001b[0;34m(\u001b[0m\u001b[0mx_train\u001b[0m\u001b[0;34m,\u001b[0m \u001b[0my_train\u001b[0m\u001b[0;34m)\u001b[0m\u001b[0;34m\u001b[0m\u001b[0;34m\u001b[0m\u001b[0m\n",
            "\u001b[0;32m/usr/local/lib/python3.8/dist-packages/sklearn/model_selection/_split.py\u001b[0m in \u001b[0;36mtrain_test_split\u001b[0;34m(test_size, train_size, random_state, shuffle, stratify, *arrays)\u001b[0m\n\u001b[1;32m   2418\u001b[0m \u001b[0;34m\u001b[0m\u001b[0m\n\u001b[1;32m   2419\u001b[0m     \u001b[0mn_samples\u001b[0m \u001b[0;34m=\u001b[0m \u001b[0m_num_samples\u001b[0m\u001b[0;34m(\u001b[0m\u001b[0marrays\u001b[0m\u001b[0;34m[\u001b[0m\u001b[0;36m0\u001b[0m\u001b[0;34m]\u001b[0m\u001b[0;34m)\u001b[0m\u001b[0;34m\u001b[0m\u001b[0;34m\u001b[0m\u001b[0m\n\u001b[0;32m-> 2420\u001b[0;31m     n_train, n_test = _validate_shuffle_split(\n\u001b[0m\u001b[1;32m   2421\u001b[0m         \u001b[0mn_samples\u001b[0m\u001b[0;34m,\u001b[0m \u001b[0mtest_size\u001b[0m\u001b[0;34m,\u001b[0m \u001b[0mtrain_size\u001b[0m\u001b[0;34m,\u001b[0m \u001b[0mdefault_test_size\u001b[0m\u001b[0;34m=\u001b[0m\u001b[0;36m0.25\u001b[0m\u001b[0;34m\u001b[0m\u001b[0;34m\u001b[0m\u001b[0m\n\u001b[1;32m   2422\u001b[0m     )\n",
            "\u001b[0;32m/usr/local/lib/python3.8/dist-packages/sklearn/model_selection/_split.py\u001b[0m in \u001b[0;36m_validate_shuffle_split\u001b[0;34m(n_samples, test_size, train_size, default_test_size)\u001b[0m\n\u001b[1;32m   2096\u001b[0m \u001b[0;34m\u001b[0m\u001b[0m\n\u001b[1;32m   2097\u001b[0m     \u001b[0;32mif\u001b[0m \u001b[0mn_train\u001b[0m \u001b[0;34m==\u001b[0m \u001b[0;36m0\u001b[0m\u001b[0;34m:\u001b[0m\u001b[0;34m\u001b[0m\u001b[0;34m\u001b[0m\u001b[0m\n\u001b[0;32m-> 2098\u001b[0;31m         raise ValueError(\n\u001b[0m\u001b[1;32m   2099\u001b[0m             \u001b[0;34m\"With n_samples={}, test_size={} and train_size={}, the \"\u001b[0m\u001b[0;34m\u001b[0m\u001b[0;34m\u001b[0m\u001b[0m\n\u001b[1;32m   2100\u001b[0m             \u001b[0;34m\"resulting train set will be empty. Adjust any of the \"\u001b[0m\u001b[0;34m\u001b[0m\u001b[0;34m\u001b[0m\u001b[0m\n",
            "\u001b[0;31mValueError\u001b[0m: With n_samples=0, test_size=0.3 and train_size=None, the resulting train set will be empty. Adjust any of the aforementioned parameters."
          ]
        }
      ]
    },
    {
      "cell_type": "code",
      "source": [
        "# Validación cruzada k fold\n",
        "from sklearn.model_selection import KFold\n",
        "\n",
        "modelo = DecisionTreeClassifier()\n",
        "kfold_validacion=KFold(10)"
      ],
      "metadata": {
        "id": "Neb1N-E_hKS3"
      },
      "execution_count": null,
      "outputs": []
    },
    {
      "cell_type": "code",
      "source": [
        "from sklearn.model_selection import cross_val_score\n",
        "\n",
        "resultados = cross_val_score(modelo, x, y, cv = kfold_validacion)\n",
        "print(resultados)\n",
        "resultados.mean()"
      ],
      "metadata": {
        "colab": {
          "base_uri": "https://localhost:8080/",
          "height": 432
        },
        "id": "HOSBfQwoh4Ei",
        "outputId": "42fe3801-ba36-4f24-a7c7-d3b27c5ba503"
      },
      "execution_count": null,
      "outputs": [
        {
          "output_type": "error",
          "ename": "ValueError",
          "evalue": "ignored",
          "traceback": [
            "\u001b[0;31m---------------------------------------------------------------------------\u001b[0m",
            "\u001b[0;31mEmpty\u001b[0m                                     Traceback (most recent call last)",
            "\u001b[0;32m/usr/local/lib/python3.8/dist-packages/joblib/parallel.py\u001b[0m in \u001b[0;36mdispatch_one_batch\u001b[0;34m(self, iterator)\u001b[0m\n\u001b[1;32m    861\u001b[0m             \u001b[0;32mtry\u001b[0m\u001b[0;34m:\u001b[0m\u001b[0;34m\u001b[0m\u001b[0;34m\u001b[0m\u001b[0m\n\u001b[0;32m--> 862\u001b[0;31m                 \u001b[0mtasks\u001b[0m \u001b[0;34m=\u001b[0m \u001b[0mself\u001b[0m\u001b[0;34m.\u001b[0m\u001b[0m_ready_batches\u001b[0m\u001b[0;34m.\u001b[0m\u001b[0mget\u001b[0m\u001b[0;34m(\u001b[0m\u001b[0mblock\u001b[0m\u001b[0;34m=\u001b[0m\u001b[0;32mFalse\u001b[0m\u001b[0;34m)\u001b[0m\u001b[0;34m\u001b[0m\u001b[0;34m\u001b[0m\u001b[0m\n\u001b[0m\u001b[1;32m    863\u001b[0m             \u001b[0;32mexcept\u001b[0m \u001b[0mqueue\u001b[0m\u001b[0;34m.\u001b[0m\u001b[0mEmpty\u001b[0m\u001b[0;34m:\u001b[0m\u001b[0;34m\u001b[0m\u001b[0;34m\u001b[0m\u001b[0m\n",
            "\u001b[0;32m/usr/lib/python3.8/queue.py\u001b[0m in \u001b[0;36mget\u001b[0;34m(self, block, timeout)\u001b[0m\n\u001b[1;32m    166\u001b[0m                 \u001b[0;32mif\u001b[0m \u001b[0;32mnot\u001b[0m \u001b[0mself\u001b[0m\u001b[0;34m.\u001b[0m\u001b[0m_qsize\u001b[0m\u001b[0;34m(\u001b[0m\u001b[0;34m)\u001b[0m\u001b[0;34m:\u001b[0m\u001b[0;34m\u001b[0m\u001b[0;34m\u001b[0m\u001b[0m\n\u001b[0;32m--> 167\u001b[0;31m                     \u001b[0;32mraise\u001b[0m \u001b[0mEmpty\u001b[0m\u001b[0;34m\u001b[0m\u001b[0;34m\u001b[0m\u001b[0m\n\u001b[0m\u001b[1;32m    168\u001b[0m             \u001b[0;32melif\u001b[0m \u001b[0mtimeout\u001b[0m \u001b[0;32mis\u001b[0m \u001b[0;32mNone\u001b[0m\u001b[0;34m:\u001b[0m\u001b[0;34m\u001b[0m\u001b[0;34m\u001b[0m\u001b[0m\n",
            "\u001b[0;31mEmpty\u001b[0m: ",
            "\nDuring handling of the above exception, another exception occurred:\n",
            "\u001b[0;31mValueError\u001b[0m                                Traceback (most recent call last)",
            "\u001b[0;32m<ipython-input-40-01973f6862ad>\u001b[0m in \u001b[0;36m<module>\u001b[0;34m\u001b[0m\n\u001b[1;32m      1\u001b[0m \u001b[0;32mfrom\u001b[0m \u001b[0msklearn\u001b[0m\u001b[0;34m.\u001b[0m\u001b[0mmodel_selection\u001b[0m \u001b[0;32mimport\u001b[0m \u001b[0mcross_val_score\u001b[0m\u001b[0;34m\u001b[0m\u001b[0;34m\u001b[0m\u001b[0m\n\u001b[1;32m      2\u001b[0m \u001b[0;34m\u001b[0m\u001b[0m\n\u001b[0;32m----> 3\u001b[0;31m \u001b[0mresultados\u001b[0m \u001b[0;34m=\u001b[0m \u001b[0mcross_val_score\u001b[0m\u001b[0;34m(\u001b[0m\u001b[0mmodelo\u001b[0m\u001b[0;34m,\u001b[0m \u001b[0mx\u001b[0m\u001b[0;34m,\u001b[0m \u001b[0my\u001b[0m\u001b[0;34m,\u001b[0m \u001b[0mcv\u001b[0m \u001b[0;34m=\u001b[0m \u001b[0mkfold_validacion\u001b[0m\u001b[0;34m)\u001b[0m\u001b[0;34m\u001b[0m\u001b[0;34m\u001b[0m\u001b[0m\n\u001b[0m\u001b[1;32m      4\u001b[0m \u001b[0mprint\u001b[0m\u001b[0;34m(\u001b[0m\u001b[0mresultados\u001b[0m\u001b[0;34m)\u001b[0m\u001b[0;34m\u001b[0m\u001b[0;34m\u001b[0m\u001b[0m\n\u001b[1;32m      5\u001b[0m \u001b[0mresultados\u001b[0m\u001b[0;34m.\u001b[0m\u001b[0mmean\u001b[0m\u001b[0;34m(\u001b[0m\u001b[0;34m)\u001b[0m\u001b[0;34m\u001b[0m\u001b[0;34m\u001b[0m\u001b[0m\n",
            "\u001b[0;32m/usr/local/lib/python3.8/dist-packages/sklearn/model_selection/_validation.py\u001b[0m in \u001b[0;36mcross_val_score\u001b[0;34m(estimator, X, y, groups, scoring, cv, n_jobs, verbose, fit_params, pre_dispatch, error_score)\u001b[0m\n\u001b[1;32m    507\u001b[0m     \u001b[0mscorer\u001b[0m \u001b[0;34m=\u001b[0m \u001b[0mcheck_scoring\u001b[0m\u001b[0;34m(\u001b[0m\u001b[0mestimator\u001b[0m\u001b[0;34m,\u001b[0m \u001b[0mscoring\u001b[0m\u001b[0;34m=\u001b[0m\u001b[0mscoring\u001b[0m\u001b[0;34m)\u001b[0m\u001b[0;34m\u001b[0m\u001b[0;34m\u001b[0m\u001b[0m\n\u001b[1;32m    508\u001b[0m \u001b[0;34m\u001b[0m\u001b[0m\n\u001b[0;32m--> 509\u001b[0;31m     cv_results = cross_validate(\n\u001b[0m\u001b[1;32m    510\u001b[0m         \u001b[0mestimator\u001b[0m\u001b[0;34m=\u001b[0m\u001b[0mestimator\u001b[0m\u001b[0;34m,\u001b[0m\u001b[0;34m\u001b[0m\u001b[0;34m\u001b[0m\u001b[0m\n\u001b[1;32m    511\u001b[0m         \u001b[0mX\u001b[0m\u001b[0;34m=\u001b[0m\u001b[0mX\u001b[0m\u001b[0;34m,\u001b[0m\u001b[0;34m\u001b[0m\u001b[0;34m\u001b[0m\u001b[0m\n",
            "\u001b[0;32m/usr/local/lib/python3.8/dist-packages/sklearn/model_selection/_validation.py\u001b[0m in \u001b[0;36mcross_validate\u001b[0;34m(estimator, X, y, groups, scoring, cv, n_jobs, verbose, fit_params, pre_dispatch, return_train_score, return_estimator, error_score)\u001b[0m\n\u001b[1;32m    265\u001b[0m     \u001b[0;31m# independent, and that it is pickle-able.\u001b[0m\u001b[0;34m\u001b[0m\u001b[0;34m\u001b[0m\u001b[0;34m\u001b[0m\u001b[0m\n\u001b[1;32m    266\u001b[0m     \u001b[0mparallel\u001b[0m \u001b[0;34m=\u001b[0m \u001b[0mParallel\u001b[0m\u001b[0;34m(\u001b[0m\u001b[0mn_jobs\u001b[0m\u001b[0;34m=\u001b[0m\u001b[0mn_jobs\u001b[0m\u001b[0;34m,\u001b[0m \u001b[0mverbose\u001b[0m\u001b[0;34m=\u001b[0m\u001b[0mverbose\u001b[0m\u001b[0;34m,\u001b[0m \u001b[0mpre_dispatch\u001b[0m\u001b[0;34m=\u001b[0m\u001b[0mpre_dispatch\u001b[0m\u001b[0;34m)\u001b[0m\u001b[0;34m\u001b[0m\u001b[0;34m\u001b[0m\u001b[0m\n\u001b[0;32m--> 267\u001b[0;31m     results = parallel(\n\u001b[0m\u001b[1;32m    268\u001b[0m         delayed(_fit_and_score)(\n\u001b[1;32m    269\u001b[0m             \u001b[0mclone\u001b[0m\u001b[0;34m(\u001b[0m\u001b[0mestimator\u001b[0m\u001b[0;34m)\u001b[0m\u001b[0;34m,\u001b[0m\u001b[0;34m\u001b[0m\u001b[0;34m\u001b[0m\u001b[0m\n",
            "\u001b[0;32m/usr/local/lib/python3.8/dist-packages/joblib/parallel.py\u001b[0m in \u001b[0;36m__call__\u001b[0;34m(self, iterable)\u001b[0m\n\u001b[1;32m   1083\u001b[0m             \u001b[0;31m# remaining jobs.\u001b[0m\u001b[0;34m\u001b[0m\u001b[0;34m\u001b[0m\u001b[0;34m\u001b[0m\u001b[0m\n\u001b[1;32m   1084\u001b[0m             \u001b[0mself\u001b[0m\u001b[0;34m.\u001b[0m\u001b[0m_iterating\u001b[0m \u001b[0;34m=\u001b[0m \u001b[0;32mFalse\u001b[0m\u001b[0;34m\u001b[0m\u001b[0;34m\u001b[0m\u001b[0m\n\u001b[0;32m-> 1085\u001b[0;31m             \u001b[0;32mif\u001b[0m \u001b[0mself\u001b[0m\u001b[0;34m.\u001b[0m\u001b[0mdispatch_one_batch\u001b[0m\u001b[0;34m(\u001b[0m\u001b[0miterator\u001b[0m\u001b[0;34m)\u001b[0m\u001b[0;34m:\u001b[0m\u001b[0;34m\u001b[0m\u001b[0;34m\u001b[0m\u001b[0m\n\u001b[0m\u001b[1;32m   1086\u001b[0m                 \u001b[0mself\u001b[0m\u001b[0;34m.\u001b[0m\u001b[0m_iterating\u001b[0m \u001b[0;34m=\u001b[0m \u001b[0mself\u001b[0m\u001b[0;34m.\u001b[0m\u001b[0m_original_iterator\u001b[0m \u001b[0;32mis\u001b[0m \u001b[0;32mnot\u001b[0m \u001b[0;32mNone\u001b[0m\u001b[0;34m\u001b[0m\u001b[0;34m\u001b[0m\u001b[0m\n\u001b[1;32m   1087\u001b[0m \u001b[0;34m\u001b[0m\u001b[0m\n",
            "\u001b[0;32m/usr/local/lib/python3.8/dist-packages/joblib/parallel.py\u001b[0m in \u001b[0;36mdispatch_one_batch\u001b[0;34m(self, iterator)\u001b[0m\n\u001b[1;32m    871\u001b[0m                 \u001b[0mbig_batch_size\u001b[0m \u001b[0;34m=\u001b[0m \u001b[0mbatch_size\u001b[0m \u001b[0;34m*\u001b[0m \u001b[0mn_jobs\u001b[0m\u001b[0;34m\u001b[0m\u001b[0;34m\u001b[0m\u001b[0m\n\u001b[1;32m    872\u001b[0m \u001b[0;34m\u001b[0m\u001b[0m\n\u001b[0;32m--> 873\u001b[0;31m                 \u001b[0mislice\u001b[0m \u001b[0;34m=\u001b[0m \u001b[0mlist\u001b[0m\u001b[0;34m(\u001b[0m\u001b[0mitertools\u001b[0m\u001b[0;34m.\u001b[0m\u001b[0mislice\u001b[0m\u001b[0;34m(\u001b[0m\u001b[0miterator\u001b[0m\u001b[0;34m,\u001b[0m \u001b[0mbig_batch_size\u001b[0m\u001b[0;34m)\u001b[0m\u001b[0;34m)\u001b[0m\u001b[0;34m\u001b[0m\u001b[0;34m\u001b[0m\u001b[0m\n\u001b[0m\u001b[1;32m    874\u001b[0m                 \u001b[0;32mif\u001b[0m \u001b[0mlen\u001b[0m\u001b[0;34m(\u001b[0m\u001b[0mislice\u001b[0m\u001b[0;34m)\u001b[0m \u001b[0;34m==\u001b[0m \u001b[0;36m0\u001b[0m\u001b[0;34m:\u001b[0m\u001b[0;34m\u001b[0m\u001b[0;34m\u001b[0m\u001b[0m\n\u001b[1;32m    875\u001b[0m                     \u001b[0;32mreturn\u001b[0m \u001b[0;32mFalse\u001b[0m\u001b[0;34m\u001b[0m\u001b[0;34m\u001b[0m\u001b[0m\n",
            "\u001b[0;32m/usr/local/lib/python3.8/dist-packages/sklearn/model_selection/_validation.py\u001b[0m in \u001b[0;36m<genexpr>\u001b[0;34m(.0)\u001b[0m\n\u001b[1;32m    265\u001b[0m     \u001b[0;31m# independent, and that it is pickle-able.\u001b[0m\u001b[0;34m\u001b[0m\u001b[0;34m\u001b[0m\u001b[0;34m\u001b[0m\u001b[0m\n\u001b[1;32m    266\u001b[0m     \u001b[0mparallel\u001b[0m \u001b[0;34m=\u001b[0m \u001b[0mParallel\u001b[0m\u001b[0;34m(\u001b[0m\u001b[0mn_jobs\u001b[0m\u001b[0;34m=\u001b[0m\u001b[0mn_jobs\u001b[0m\u001b[0;34m,\u001b[0m \u001b[0mverbose\u001b[0m\u001b[0;34m=\u001b[0m\u001b[0mverbose\u001b[0m\u001b[0;34m,\u001b[0m \u001b[0mpre_dispatch\u001b[0m\u001b[0;34m=\u001b[0m\u001b[0mpre_dispatch\u001b[0m\u001b[0;34m)\u001b[0m\u001b[0;34m\u001b[0m\u001b[0;34m\u001b[0m\u001b[0m\n\u001b[0;32m--> 267\u001b[0;31m     results = parallel(\n\u001b[0m\u001b[1;32m    268\u001b[0m         delayed(_fit_and_score)(\n\u001b[1;32m    269\u001b[0m             \u001b[0mclone\u001b[0m\u001b[0;34m(\u001b[0m\u001b[0mestimator\u001b[0m\u001b[0;34m)\u001b[0m\u001b[0;34m,\u001b[0m\u001b[0;34m\u001b[0m\u001b[0;34m\u001b[0m\u001b[0m\n",
            "\u001b[0;32m/usr/local/lib/python3.8/dist-packages/sklearn/model_selection/_split.py\u001b[0m in \u001b[0;36msplit\u001b[0;34m(self, X, y, groups)\u001b[0m\n\u001b[1;32m    331\u001b[0m         \u001b[0mn_samples\u001b[0m \u001b[0;34m=\u001b[0m \u001b[0m_num_samples\u001b[0m\u001b[0;34m(\u001b[0m\u001b[0mX\u001b[0m\u001b[0;34m)\u001b[0m\u001b[0;34m\u001b[0m\u001b[0;34m\u001b[0m\u001b[0m\n\u001b[1;32m    332\u001b[0m         \u001b[0;32mif\u001b[0m \u001b[0mself\u001b[0m\u001b[0;34m.\u001b[0m\u001b[0mn_splits\u001b[0m \u001b[0;34m>\u001b[0m \u001b[0mn_samples\u001b[0m\u001b[0;34m:\u001b[0m\u001b[0;34m\u001b[0m\u001b[0;34m\u001b[0m\u001b[0m\n\u001b[0;32m--> 333\u001b[0;31m             raise ValueError(\n\u001b[0m\u001b[1;32m    334\u001b[0m                 (\n\u001b[1;32m    335\u001b[0m                     \u001b[0;34m\"Cannot have number of splits n_splits={0} greater\"\u001b[0m\u001b[0;34m\u001b[0m\u001b[0;34m\u001b[0m\u001b[0m\n",
            "\u001b[0;31mValueError\u001b[0m: Cannot have number of splits n_splits=10 greater than the number of samples: n_samples=0."
          ]
        }
      ]
    }
  ],
  "metadata": {
    "colab": {
      "provenance": [],
      "authorship_tag": "ABX9TyMm5ImcW5HnFOgRj4/30u7W",
      "include_colab_link": true
    },
    "kernelspec": {
      "display_name": "Python 3",
      "name": "python3"
    },
    "language_info": {
      "name": "python"
    }
  },
  "nbformat": 4,
  "nbformat_minor": 0
}